{
 "cells": [
  {
   "cell_type": "code",
   "execution_count": 1,
   "metadata": {},
   "outputs": [],
   "source": [
    "%reload_ext autoreload\n",
    "%autoreload 2\n",
    "%matplotlib inline"
   ]
  },
  {
   "cell_type": "code",
   "execution_count": 2,
   "metadata": {},
   "outputs": [],
   "source": [
    "import xgboost as xgb\n",
    "from sklearn.model_selection import train_test_split, StratifiedKFold\n",
    "from sklearn.metrics import roc_auc_score\n",
    "import pandas as pd\n",
    "import numpy as np\n",
    "from scipy import sparse\n",
    "import pickle\n",
    "from sklearn.feature_selection import SelectFromModel\n",
    "\n",
    "import gc"
   ]
  },
  {
   "cell_type": "code",
   "execution_count": 3,
   "metadata": {},
   "outputs": [],
   "source": [
    "import matplotlib.pyplot as plt"
   ]
  },
  {
   "cell_type": "code",
   "execution_count": 4,
   "metadata": {},
   "outputs": [],
   "source": [
    "features_dir227 = './features_227/'\n",
    "features_dir306 = './features_306/'\n",
    "data_dir = \"./data/FT_Camp_2/\"\n",
    "inter_dir = \"./inter_data/2/\""
   ]
  },
  {
   "cell_type": "code",
   "execution_count": 5,
   "metadata": {},
   "outputs": [],
   "source": [
    "# 训练数据\n",
    "train227 = pd.read_csv(data_dir + 'train.csv')\n",
    "\n",
    "# 预测目标用户\n",
    "pred_users306 = pd.read_csv(data_dir + 'pred_users.csv')"
   ]
  },
  {
   "cell_type": "code",
   "execution_count": 6,
   "metadata": {},
   "outputs": [
    {
     "data": {
      "text/html": [
       "<div>\n",
       "<style scoped>\n",
       "    .dataframe tbody tr th:only-of-type {\n",
       "        vertical-align: middle;\n",
       "    }\n",
       "\n",
       "    .dataframe tbody tr th {\n",
       "        vertical-align: top;\n",
       "    }\n",
       "\n",
       "    .dataframe thead th {\n",
       "        text-align: right;\n",
       "    }\n",
       "</style>\n",
       "<table border=\"1\" class=\"dataframe\">\n",
       "  <thead>\n",
       "    <tr style=\"text-align: right;\">\n",
       "      <th></th>\n",
       "      <th>id</th>\n",
       "      <th>gender</th>\n",
       "      <th>age</th>\n",
       "      <th>aum227</th>\n",
       "      <th>收入总和</th>\n",
       "      <th>支出总和</th>\n",
       "      <th>收支总和</th>\n",
       "      <th>收支记录次数</th>\n",
       "      <th>收入最大值</th>\n",
       "      <th>支出最大值</th>\n",
       "      <th>...</th>\n",
       "      <th>各原始类别收支记录次数AGBN+FUSL</th>\n",
       "      <th>各原始类别收支记录次数AGBN+FD22</th>\n",
       "      <th>各原始类别收支记录次数AGBN+RXTY</th>\n",
       "      <th>各原始类别收支记录次数AGBN+SDRP</th>\n",
       "      <th>各原始类别收支记录次数FUSL+FD22</th>\n",
       "      <th>各原始类别收支记录次数FUSL+RXTY</th>\n",
       "      <th>各原始类别收支记录次数FUSL+SDRP</th>\n",
       "      <th>各原始类别收支记录次数FD22+RXTY</th>\n",
       "      <th>各原始类别收支记录次数FD22+SDRP</th>\n",
       "      <th>各原始类别收支记录次数RXTY+SDRP</th>\n",
       "    </tr>\n",
       "  </thead>\n",
       "  <tbody>\n",
       "    <tr>\n",
       "      <th>0</th>\n",
       "      <td>1</td>\n",
       "      <td>0</td>\n",
       "      <td>52.0</td>\n",
       "      <td>219481.95</td>\n",
       "      <td>120873.00</td>\n",
       "      <td>-72587.00</td>\n",
       "      <td>48286.00</td>\n",
       "      <td>13.0</td>\n",
       "      <td>56388.00</td>\n",
       "      <td>-50000.0</td>\n",
       "      <td>...</td>\n",
       "      <td>0.0</td>\n",
       "      <td>0.0</td>\n",
       "      <td>0.0</td>\n",
       "      <td>0.0</td>\n",
       "      <td>0.0</td>\n",
       "      <td>0.0</td>\n",
       "      <td>0.0</td>\n",
       "      <td>0.0</td>\n",
       "      <td>0.0</td>\n",
       "      <td>0.0</td>\n",
       "    </tr>\n",
       "    <tr>\n",
       "      <th>1</th>\n",
       "      <td>2</td>\n",
       "      <td>0</td>\n",
       "      <td>32.0</td>\n",
       "      <td>236183.79</td>\n",
       "      <td>348701.71</td>\n",
       "      <td>-340247.40</td>\n",
       "      <td>8454.31</td>\n",
       "      <td>31.0</td>\n",
       "      <td>96000.00</td>\n",
       "      <td>-316000.0</td>\n",
       "      <td>...</td>\n",
       "      <td>0.0</td>\n",
       "      <td>0.0</td>\n",
       "      <td>0.0</td>\n",
       "      <td>0.0</td>\n",
       "      <td>0.0</td>\n",
       "      <td>0.0</td>\n",
       "      <td>0.0</td>\n",
       "      <td>0.0</td>\n",
       "      <td>0.0</td>\n",
       "      <td>0.0</td>\n",
       "    </tr>\n",
       "    <tr>\n",
       "      <th>2</th>\n",
       "      <td>3</td>\n",
       "      <td>0</td>\n",
       "      <td>22.0</td>\n",
       "      <td>0.06</td>\n",
       "      <td>6920.67</td>\n",
       "      <td>-12561.21</td>\n",
       "      <td>-5640.54</td>\n",
       "      <td>167.0</td>\n",
       "      <td>6841.06</td>\n",
       "      <td>-3000.0</td>\n",
       "      <td>...</td>\n",
       "      <td>0.0</td>\n",
       "      <td>0.0</td>\n",
       "      <td>0.0</td>\n",
       "      <td>0.0</td>\n",
       "      <td>0.0</td>\n",
       "      <td>0.0</td>\n",
       "      <td>0.0</td>\n",
       "      <td>0.0</td>\n",
       "      <td>0.0</td>\n",
       "      <td>0.0</td>\n",
       "    </tr>\n",
       "    <tr>\n",
       "      <th>3</th>\n",
       "      <td>4</td>\n",
       "      <td>1</td>\n",
       "      <td>21.0</td>\n",
       "      <td>420.26</td>\n",
       "      <td>2110.00</td>\n",
       "      <td>-2093.93</td>\n",
       "      <td>16.07</td>\n",
       "      <td>50.0</td>\n",
       "      <td>520.00</td>\n",
       "      <td>-520.0</td>\n",
       "      <td>...</td>\n",
       "      <td>695.0</td>\n",
       "      <td>0.0</td>\n",
       "      <td>0.0</td>\n",
       "      <td>0.0</td>\n",
       "      <td>695.0</td>\n",
       "      <td>695.0</td>\n",
       "      <td>695.0</td>\n",
       "      <td>0.0</td>\n",
       "      <td>0.0</td>\n",
       "      <td>0.0</td>\n",
       "    </tr>\n",
       "    <tr>\n",
       "      <th>4</th>\n",
       "      <td>6</td>\n",
       "      <td>1</td>\n",
       "      <td>34.0</td>\n",
       "      <td>231.42</td>\n",
       "      <td>829116.97</td>\n",
       "      <td>-829294.89</td>\n",
       "      <td>-177.92</td>\n",
       "      <td>81.0</td>\n",
       "      <td>300000.00</td>\n",
       "      <td>-300000.0</td>\n",
       "      <td>...</td>\n",
       "      <td>0.0</td>\n",
       "      <td>0.0</td>\n",
       "      <td>300000.0</td>\n",
       "      <td>0.0</td>\n",
       "      <td>0.0</td>\n",
       "      <td>300000.0</td>\n",
       "      <td>0.0</td>\n",
       "      <td>300000.0</td>\n",
       "      <td>0.0</td>\n",
       "      <td>300000.0</td>\n",
       "    </tr>\n",
       "  </tbody>\n",
       "</table>\n",
       "<p>5 rows × 768 columns</p>\n",
       "</div>"
      ],
      "text/plain": [
       "   id  gender   age     aum227       收入总和       支出总和      收支总和  收支记录次数  \\\n",
       "0   1       0  52.0  219481.95  120873.00  -72587.00  48286.00    13.0   \n",
       "1   2       0  32.0  236183.79  348701.71 -340247.40   8454.31    31.0   \n",
       "2   3       0  22.0       0.06    6920.67  -12561.21  -5640.54   167.0   \n",
       "3   4       1  21.0     420.26    2110.00   -2093.93     16.07    50.0   \n",
       "4   6       1  34.0     231.42  829116.97 -829294.89   -177.92    81.0   \n",
       "\n",
       "       收入最大值     支出最大值  ...  各原始类别收支记录次数AGBN+FUSL  各原始类别收支记录次数AGBN+FD22  \\\n",
       "0   56388.00  -50000.0  ...                   0.0                   0.0   \n",
       "1   96000.00 -316000.0  ...                   0.0                   0.0   \n",
       "2    6841.06   -3000.0  ...                   0.0                   0.0   \n",
       "3     520.00    -520.0  ...                 695.0                   0.0   \n",
       "4  300000.00 -300000.0  ...                   0.0                   0.0   \n",
       "\n",
       "   各原始类别收支记录次数AGBN+RXTY  各原始类别收支记录次数AGBN+SDRP  各原始类别收支记录次数FUSL+FD22  \\\n",
       "0                   0.0                   0.0                   0.0   \n",
       "1                   0.0                   0.0                   0.0   \n",
       "2                   0.0                   0.0                   0.0   \n",
       "3                   0.0                   0.0                 695.0   \n",
       "4              300000.0                   0.0                   0.0   \n",
       "\n",
       "   各原始类别收支记录次数FUSL+RXTY  各原始类别收支记录次数FUSL+SDRP  各原始类别收支记录次数FD22+RXTY  \\\n",
       "0                   0.0                   0.0                   0.0   \n",
       "1                   0.0                   0.0                   0.0   \n",
       "2                   0.0                   0.0                   0.0   \n",
       "3                 695.0                 695.0                   0.0   \n",
       "4              300000.0                   0.0              300000.0   \n",
       "\n",
       "   各原始类别收支记录次数FD22+SDRP  各原始类别收支记录次数RXTY+SDRP  \n",
       "0                   0.0                   0.0  \n",
       "1                   0.0                   0.0  \n",
       "2                   0.0                   0.0  \n",
       "3                   0.0                   0.0  \n",
       "4                   0.0              300000.0  \n",
       "\n",
       "[5 rows x 768 columns]"
      ]
     },
     "execution_count": 6,
     "metadata": {},
     "output_type": "execute_result"
    }
   ],
   "source": [
    "# 导入数据\n",
    "features227 = train227[['id']]\n",
    "\n",
    "用户基础属性227 = pd.read_csv(features_dir227 + \"用户基础属性.csv\")\n",
    "features227 = pd.merge(features227, 用户基础属性227, on='id', how='left')\n",
    "\n",
    "收入总和227 = pd.read_csv(features_dir227 + \"收入总和.csv\")\n",
    "features227 = pd.merge(features227, 收入总和227, on='id', how='left')\n",
    "\n",
    "支出总和227 = pd.read_csv(features_dir227 + \"支出总和.csv\")\n",
    "features227 = pd.merge(features227, 支出总和227, on='id', how='left')\n",
    "\n",
    "收支总和227 = pd.read_csv(features_dir227 + \"收支总和.csv\")\n",
    "features227 = pd.merge(features227, 收支总和227, on='id', how='left')\n",
    "\n",
    "收支记录次数227 = pd.read_csv(features_dir227 + \"收支记录次数.csv\")\n",
    "features227 = pd.merge(features227, 收支记录次数227, on='id', how='left')\n",
    "\n",
    "收入最大值227 = pd.read_csv(features_dir227 + \"收入最大值.csv\")\n",
    "features227 = pd.merge(features227, 收入最大值227, on='id', how='left')\n",
    "\n",
    "支出最大值227 = pd.read_csv(features_dir227 + \"支出最大值.csv\")\n",
    "features227 = pd.merge(features227, 支出最大值227, on='id', how='left')\n",
    "\n",
    "各类别收支记录次数227 = pd.read_csv(features_dir227 + \"各类别收支记录次数.csv\")\n",
    "features227 = pd.merge(features227, 各类别收支记录次数227, on='id', how='left')\n",
    "\n",
    "各类别收支金额227 = pd.read_csv(features_dir227 + \"各类别收支金额.csv\")\n",
    "features227 = pd.merge(features227, 各类别收支金额227, on='id', how='left')\n",
    "\n",
    "# 各原始类别收支记录次数227 = pd.read_csv(features_dir227 + \"各原始类别收支记录次数.csv\")\n",
    "# features227 = pd.merge(features227, 各原始类别收支记录次数227, on='id', how='left')\n",
    "\n",
    "各原始类别收支金额227 = pd.read_csv(features_dir227 + \"各原始类别收支金额.csv\")\n",
    "features227 = pd.merge(features227, 各原始类别收支金额227, on='id', how='left')\n",
    "\n",
    "# 细粒度收支总和_10227 = pd.read_csv(features_dir227 + \"细粒度收支总和_10.csv\")\n",
    "# features227 = pd.merge(features227, 细粒度收支总和_10227, on='id', how='left')\n",
    "\n",
    "# 对应时间收支总和227 = pd.read_csv(features_dir227 + \"对应时间收支总和.csv\")\n",
    "# features227 = pd.merge(features227, 对应时间收支总和227, on='id', how='left')\n",
    "\n",
    "# 对应时间支出总和227 = pd.read_csv(features_dir227 + \"对应时间支出总和.csv\")\n",
    "# features227 = pd.merge(features227, 对应时间支出总和227, on='id', how='left')\n",
    "\n",
    "# 对应时间收入总和227 = pd.read_csv(features_dir227 + \"对应时间收入总和.csv\")\n",
    "# features227 = pd.merge(features227, 对应时间收入总和227, on='id', how='left')\n",
    "\n",
    "收入均值227 = pd.read_csv(features_dir227 + \"收入均值.csv\")\n",
    "features227 = pd.merge(features227, 收入均值227, on='id', how='left')\n",
    "\n",
    "支出均值227 = pd.read_csv(features_dir227 + \"支出均值.csv\")\n",
    "features227 = pd.merge(features227, 支出均值227, on='id', how='left')\n",
    "\n",
    "收支均值227 = pd.read_csv(features_dir227 + \"收支均值.csv\")\n",
    "features227 = pd.merge(features227, 收支均值227, on='id', how='left')\n",
    "\n",
    "# 各类别收支平均金额227 = pd.read_csv(features_dir227 + \"各类别收支平均金额.csv\")\n",
    "# features227 = pd.merge(features227, 各类别收支平均金额227, on='id', how='left')\n",
    "\n",
    "# 细粒度收支总和_58227 = pd.read_csv(features_dir227 + \"细粒度收支总和_58.csv\")\n",
    "# features227 = pd.merge(features227, 细粒度收支总和_58227, on='id', how='left')\n",
    "\n",
    "# 类别次数两两相加组合特征227 = pd.read_csv(features_dir227 + \"类别次数两两相加组合特征.csv\")\n",
    "# features227 = pd.merge(features227, 类别次数两两相加组合特征227, on='id', how='left')\n",
    "\n",
    "# 类别金额两两相加组合特征227 = pd.read_csv(features_dir227 + \"类别金额两两相加组合特征.csv\")\n",
    "# features227 = pd.merge(features227, 类别金额两两相加组合特征227, on='id', how='left')\n",
    "\n",
    "# 原始类别次数两两相加组合特征227 = pd.read_csv(features_dir227 + \"原始类别次数两两相加组合特征.csv\")\n",
    "# features227 = pd.merge(features227, 原始类别次数两两相加组合特征227, on='id', how='left')\n",
    "\n",
    "原始类别金额两两相加组合特征227 = pd.read_csv(features_dir227 + \"原始类别金额两两相加组合特征.csv\")\n",
    "features227 = pd.merge(features227, 原始类别金额两两相加组合特征227, on='id', how='left')\n",
    "\n",
    "features227.head()"
   ]
  },
  {
   "cell_type": "code",
   "execution_count": 7,
   "metadata": {},
   "outputs": [],
   "source": [
    "# del 类别次数两两相加组合特征227\n",
    "# gc.collect()"
   ]
  },
  {
   "cell_type": "code",
   "execution_count": 8,
   "metadata": {},
   "outputs": [
    {
     "data": {
      "text/html": [
       "<div>\n",
       "<style scoped>\n",
       "    .dataframe tbody tr th:only-of-type {\n",
       "        vertical-align: middle;\n",
       "    }\n",
       "\n",
       "    .dataframe tbody tr th {\n",
       "        vertical-align: top;\n",
       "    }\n",
       "\n",
       "    .dataframe thead th {\n",
       "        text-align: right;\n",
       "    }\n",
       "</style>\n",
       "<table border=\"1\" class=\"dataframe\">\n",
       "  <thead>\n",
       "    <tr style=\"text-align: right;\">\n",
       "      <th></th>\n",
       "      <th>id</th>\n",
       "      <th>gender</th>\n",
       "      <th>age</th>\n",
       "      <th>aum227</th>\n",
       "      <th>收入总和</th>\n",
       "      <th>支出总和</th>\n",
       "      <th>收支总和</th>\n",
       "      <th>收支记录次数</th>\n",
       "      <th>收入最大值</th>\n",
       "      <th>支出最大值</th>\n",
       "      <th>...</th>\n",
       "      <th>各原始类别收支记录次数AGBN+FD22</th>\n",
       "      <th>各原始类别收支记录次数AGBN+RXTY</th>\n",
       "      <th>各原始类别收支记录次数AGBN+SDRP</th>\n",
       "      <th>各原始类别收支记录次数FUSL+FD22</th>\n",
       "      <th>各原始类别收支记录次数FUSL+RXTY</th>\n",
       "      <th>各原始类别收支记录次数FUSL+SDRP</th>\n",
       "      <th>各原始类别收支记录次数FD22+RXTY</th>\n",
       "      <th>各原始类别收支记录次数FD22+SDRP</th>\n",
       "      <th>各原始类别收支记录次数RXTY+SDRP</th>\n",
       "      <th>click_w228</th>\n",
       "    </tr>\n",
       "  </thead>\n",
       "  <tbody>\n",
       "    <tr>\n",
       "      <th>0</th>\n",
       "      <td>1</td>\n",
       "      <td>0</td>\n",
       "      <td>52.0</td>\n",
       "      <td>219481.95</td>\n",
       "      <td>120873.00</td>\n",
       "      <td>-72587.00</td>\n",
       "      <td>48286.00</td>\n",
       "      <td>13.0</td>\n",
       "      <td>56388.00</td>\n",
       "      <td>-50000.0</td>\n",
       "      <td>...</td>\n",
       "      <td>0.0</td>\n",
       "      <td>0.0</td>\n",
       "      <td>0.0</td>\n",
       "      <td>0.0</td>\n",
       "      <td>0.0</td>\n",
       "      <td>0.0</td>\n",
       "      <td>0.0</td>\n",
       "      <td>0.0</td>\n",
       "      <td>0.0</td>\n",
       "      <td>0</td>\n",
       "    </tr>\n",
       "    <tr>\n",
       "      <th>1</th>\n",
       "      <td>2</td>\n",
       "      <td>0</td>\n",
       "      <td>32.0</td>\n",
       "      <td>236183.79</td>\n",
       "      <td>348701.71</td>\n",
       "      <td>-340247.40</td>\n",
       "      <td>8454.31</td>\n",
       "      <td>31.0</td>\n",
       "      <td>96000.00</td>\n",
       "      <td>-316000.0</td>\n",
       "      <td>...</td>\n",
       "      <td>0.0</td>\n",
       "      <td>0.0</td>\n",
       "      <td>0.0</td>\n",
       "      <td>0.0</td>\n",
       "      <td>0.0</td>\n",
       "      <td>0.0</td>\n",
       "      <td>0.0</td>\n",
       "      <td>0.0</td>\n",
       "      <td>0.0</td>\n",
       "      <td>0</td>\n",
       "    </tr>\n",
       "    <tr>\n",
       "      <th>2</th>\n",
       "      <td>3</td>\n",
       "      <td>0</td>\n",
       "      <td>22.0</td>\n",
       "      <td>0.06</td>\n",
       "      <td>6920.67</td>\n",
       "      <td>-12561.21</td>\n",
       "      <td>-5640.54</td>\n",
       "      <td>167.0</td>\n",
       "      <td>6841.06</td>\n",
       "      <td>-3000.0</td>\n",
       "      <td>...</td>\n",
       "      <td>0.0</td>\n",
       "      <td>0.0</td>\n",
       "      <td>0.0</td>\n",
       "      <td>0.0</td>\n",
       "      <td>0.0</td>\n",
       "      <td>0.0</td>\n",
       "      <td>0.0</td>\n",
       "      <td>0.0</td>\n",
       "      <td>0.0</td>\n",
       "      <td>0</td>\n",
       "    </tr>\n",
       "    <tr>\n",
       "      <th>3</th>\n",
       "      <td>4</td>\n",
       "      <td>1</td>\n",
       "      <td>21.0</td>\n",
       "      <td>420.26</td>\n",
       "      <td>2110.00</td>\n",
       "      <td>-2093.93</td>\n",
       "      <td>16.07</td>\n",
       "      <td>50.0</td>\n",
       "      <td>520.00</td>\n",
       "      <td>-520.0</td>\n",
       "      <td>...</td>\n",
       "      <td>0.0</td>\n",
       "      <td>0.0</td>\n",
       "      <td>0.0</td>\n",
       "      <td>695.0</td>\n",
       "      <td>695.0</td>\n",
       "      <td>695.0</td>\n",
       "      <td>0.0</td>\n",
       "      <td>0.0</td>\n",
       "      <td>0.0</td>\n",
       "      <td>0</td>\n",
       "    </tr>\n",
       "    <tr>\n",
       "      <th>4</th>\n",
       "      <td>6</td>\n",
       "      <td>1</td>\n",
       "      <td>34.0</td>\n",
       "      <td>231.42</td>\n",
       "      <td>829116.97</td>\n",
       "      <td>-829294.89</td>\n",
       "      <td>-177.92</td>\n",
       "      <td>81.0</td>\n",
       "      <td>300000.00</td>\n",
       "      <td>-300000.0</td>\n",
       "      <td>...</td>\n",
       "      <td>0.0</td>\n",
       "      <td>300000.0</td>\n",
       "      <td>0.0</td>\n",
       "      <td>0.0</td>\n",
       "      <td>300000.0</td>\n",
       "      <td>0.0</td>\n",
       "      <td>300000.0</td>\n",
       "      <td>0.0</td>\n",
       "      <td>300000.0</td>\n",
       "      <td>0</td>\n",
       "    </tr>\n",
       "  </tbody>\n",
       "</table>\n",
       "<p>5 rows × 769 columns</p>\n",
       "</div>"
      ],
      "text/plain": [
       "   id  gender   age     aum227       收入总和       支出总和      收支总和  收支记录次数  \\\n",
       "0   1       0  52.0  219481.95  120873.00  -72587.00  48286.00    13.0   \n",
       "1   2       0  32.0  236183.79  348701.71 -340247.40   8454.31    31.0   \n",
       "2   3       0  22.0       0.06    6920.67  -12561.21  -5640.54   167.0   \n",
       "3   4       1  21.0     420.26    2110.00   -2093.93     16.07    50.0   \n",
       "4   6       1  34.0     231.42  829116.97 -829294.89   -177.92    81.0   \n",
       "\n",
       "       收入最大值     支出最大值  ...  各原始类别收支记录次数AGBN+FD22  各原始类别收支记录次数AGBN+RXTY  \\\n",
       "0   56388.00  -50000.0  ...                   0.0                   0.0   \n",
       "1   96000.00 -316000.0  ...                   0.0                   0.0   \n",
       "2    6841.06   -3000.0  ...                   0.0                   0.0   \n",
       "3     520.00    -520.0  ...                   0.0                   0.0   \n",
       "4  300000.00 -300000.0  ...                   0.0              300000.0   \n",
       "\n",
       "   各原始类别收支记录次数AGBN+SDRP  各原始类别收支记录次数FUSL+FD22  各原始类别收支记录次数FUSL+RXTY  \\\n",
       "0                   0.0                   0.0                   0.0   \n",
       "1                   0.0                   0.0                   0.0   \n",
       "2                   0.0                   0.0                   0.0   \n",
       "3                   0.0                 695.0                 695.0   \n",
       "4                   0.0                   0.0              300000.0   \n",
       "\n",
       "   各原始类别收支记录次数FUSL+SDRP  各原始类别收支记录次数FD22+RXTY  各原始类别收支记录次数FD22+SDRP  \\\n",
       "0                   0.0                   0.0                   0.0   \n",
       "1                   0.0                   0.0                   0.0   \n",
       "2                   0.0                   0.0                   0.0   \n",
       "3                 695.0                   0.0                   0.0   \n",
       "4                   0.0              300000.0                   0.0   \n",
       "\n",
       "   各原始类别收支记录次数RXTY+SDRP  click_w228  \n",
       "0                   0.0           0  \n",
       "1                   0.0           0  \n",
       "2                   0.0           0  \n",
       "3                   0.0           0  \n",
       "4              300000.0           0  \n",
       "\n",
       "[5 rows x 769 columns]"
      ]
     },
     "execution_count": 8,
     "metadata": {},
     "output_type": "execute_result"
    }
   ],
   "source": [
    "XY227 = pd.merge(features227, train227, on='id', how='left')\n",
    "XY227.head()"
   ]
  },
  {
   "cell_type": "code",
   "execution_count": 9,
   "metadata": {},
   "outputs": [],
   "source": [
    "X227 = XY227.iloc[:,1:-1]\n",
    "Y227 = XY227.iloc[:,-1]"
   ]
  },
  {
   "cell_type": "code",
   "execution_count": 10,
   "metadata": {},
   "outputs": [],
   "source": [
    "# X227 = XY227.drop(['id', 'click_w228'], axis=1)\n",
    "# Y227 = XY227[['click_w228']]"
   ]
  },
  {
   "cell_type": "code",
   "execution_count": 11,
   "metadata": {},
   "outputs": [
    {
     "name": "stdout",
     "output_type": "stream",
     "text": [
      "(108252, 2)\n",
      "(108252, 768)\n"
     ]
    }
   ],
   "source": [
    "print(train227.shape)\n",
    "# print(用户基础属性227.shape)\n",
    "# print(收入总和227.shape)\n",
    "# print(支出总和227.shape)\n",
    "print(features227.shape)"
   ]
  },
  {
   "cell_type": "code",
   "execution_count": null,
   "metadata": {},
   "outputs": [],
   "source": []
  },
  {
   "cell_type": "code",
   "execution_count": 12,
   "metadata": {},
   "outputs": [
    {
     "data": {
      "text/html": [
       "<div>\n",
       "<style scoped>\n",
       "    .dataframe tbody tr th:only-of-type {\n",
       "        vertical-align: middle;\n",
       "    }\n",
       "\n",
       "    .dataframe tbody tr th {\n",
       "        vertical-align: top;\n",
       "    }\n",
       "\n",
       "    .dataframe thead th {\n",
       "        text-align: right;\n",
       "    }\n",
       "</style>\n",
       "<table border=\"1\" class=\"dataframe\">\n",
       "  <thead>\n",
       "    <tr style=\"text-align: right;\">\n",
       "      <th></th>\n",
       "      <th>id</th>\n",
       "      <th>gender</th>\n",
       "      <th>age</th>\n",
       "      <th>aum306</th>\n",
       "      <th>收入总和</th>\n",
       "      <th>支出总和</th>\n",
       "      <th>收支总和</th>\n",
       "      <th>收支记录次数</th>\n",
       "      <th>收入最大值</th>\n",
       "      <th>支出最大值</th>\n",
       "      <th>...</th>\n",
       "      <th>各原始类别收支记录次数AGBN+FUSL</th>\n",
       "      <th>各原始类别收支记录次数AGBN+FD22</th>\n",
       "      <th>各原始类别收支记录次数AGBN+RXTY</th>\n",
       "      <th>各原始类别收支记录次数AGBN+SDRP</th>\n",
       "      <th>各原始类别收支记录次数FUSL+FD22</th>\n",
       "      <th>各原始类别收支记录次数FUSL+RXTY</th>\n",
       "      <th>各原始类别收支记录次数FUSL+SDRP</th>\n",
       "      <th>各原始类别收支记录次数FD22+RXTY</th>\n",
       "      <th>各原始类别收支记录次数FD22+SDRP</th>\n",
       "      <th>各原始类别收支记录次数RXTY+SDRP</th>\n",
       "    </tr>\n",
       "  </thead>\n",
       "  <tbody>\n",
       "    <tr>\n",
       "      <th>0</th>\n",
       "      <td>1</td>\n",
       "      <td>0</td>\n",
       "      <td>52.0</td>\n",
       "      <td>183186.95</td>\n",
       "      <td>131673.00</td>\n",
       "      <td>-119682.00</td>\n",
       "      <td>11991.00</td>\n",
       "      <td>17.0</td>\n",
       "      <td>56388.00</td>\n",
       "      <td>-50000.0</td>\n",
       "      <td>...</td>\n",
       "      <td>0.0</td>\n",
       "      <td>0.0</td>\n",
       "      <td>0.0</td>\n",
       "      <td>0.0</td>\n",
       "      <td>0.0</td>\n",
       "      <td>0.0</td>\n",
       "      <td>0.0</td>\n",
       "      <td>0.0</td>\n",
       "      <td>0.0</td>\n",
       "      <td>0.0</td>\n",
       "    </tr>\n",
       "    <tr>\n",
       "      <th>1</th>\n",
       "      <td>2</td>\n",
       "      <td>0</td>\n",
       "      <td>32.0</td>\n",
       "      <td>228428.96</td>\n",
       "      <td>344531.20</td>\n",
       "      <td>-348116.40</td>\n",
       "      <td>-3585.20</td>\n",
       "      <td>31.0</td>\n",
       "      <td>96000.00</td>\n",
       "      <td>-316000.0</td>\n",
       "      <td>...</td>\n",
       "      <td>0.0</td>\n",
       "      <td>0.0</td>\n",
       "      <td>0.0</td>\n",
       "      <td>0.0</td>\n",
       "      <td>0.0</td>\n",
       "      <td>0.0</td>\n",
       "      <td>0.0</td>\n",
       "      <td>0.0</td>\n",
       "      <td>0.0</td>\n",
       "      <td>0.0</td>\n",
       "    </tr>\n",
       "    <tr>\n",
       "      <th>2</th>\n",
       "      <td>3</td>\n",
       "      <td>0</td>\n",
       "      <td>22.0</td>\n",
       "      <td>1977.68</td>\n",
       "      <td>16136.37</td>\n",
       "      <td>-18189.36</td>\n",
       "      <td>-2052.99</td>\n",
       "      <td>162.0</td>\n",
       "      <td>9245.31</td>\n",
       "      <td>-3000.0</td>\n",
       "      <td>...</td>\n",
       "      <td>0.0</td>\n",
       "      <td>0.0</td>\n",
       "      <td>0.0</td>\n",
       "      <td>0.0</td>\n",
       "      <td>0.0</td>\n",
       "      <td>0.0</td>\n",
       "      <td>0.0</td>\n",
       "      <td>0.0</td>\n",
       "      <td>0.0</td>\n",
       "      <td>0.0</td>\n",
       "    </tr>\n",
       "    <tr>\n",
       "      <th>3</th>\n",
       "      <td>4</td>\n",
       "      <td>1</td>\n",
       "      <td>21.0</td>\n",
       "      <td>392.47</td>\n",
       "      <td>1910.00</td>\n",
       "      <td>-1905.03</td>\n",
       "      <td>4.97</td>\n",
       "      <td>44.0</td>\n",
       "      <td>520.00</td>\n",
       "      <td>-520.0</td>\n",
       "      <td>...</td>\n",
       "      <td>645.0</td>\n",
       "      <td>0.0</td>\n",
       "      <td>0.0</td>\n",
       "      <td>0.0</td>\n",
       "      <td>645.0</td>\n",
       "      <td>645.0</td>\n",
       "      <td>645.0</td>\n",
       "      <td>0.0</td>\n",
       "      <td>0.0</td>\n",
       "      <td>0.0</td>\n",
       "    </tr>\n",
       "    <tr>\n",
       "      <th>4</th>\n",
       "      <td>5</td>\n",
       "      <td>0</td>\n",
       "      <td>32.0</td>\n",
       "      <td>149.65</td>\n",
       "      <td>137770.08</td>\n",
       "      <td>-137714.49</td>\n",
       "      <td>55.59</td>\n",
       "      <td>39.0</td>\n",
       "      <td>26941.90</td>\n",
       "      <td>-26941.0</td>\n",
       "      <td>...</td>\n",
       "      <td>0.0</td>\n",
       "      <td>0.0</td>\n",
       "      <td>0.0</td>\n",
       "      <td>0.0</td>\n",
       "      <td>0.0</td>\n",
       "      <td>0.0</td>\n",
       "      <td>0.0</td>\n",
       "      <td>0.0</td>\n",
       "      <td>0.0</td>\n",
       "      <td>0.0</td>\n",
       "    </tr>\n",
       "  </tbody>\n",
       "</table>\n",
       "<p>5 rows × 768 columns</p>\n",
       "</div>"
      ],
      "text/plain": [
       "   id  gender   age     aum306       收入总和       支出总和      收支总和  收支记录次数  \\\n",
       "0   1       0  52.0  183186.95  131673.00 -119682.00  11991.00    17.0   \n",
       "1   2       0  32.0  228428.96  344531.20 -348116.40  -3585.20    31.0   \n",
       "2   3       0  22.0    1977.68   16136.37  -18189.36  -2052.99   162.0   \n",
       "3   4       1  21.0     392.47    1910.00   -1905.03      4.97    44.0   \n",
       "4   5       0  32.0     149.65  137770.08 -137714.49     55.59    39.0   \n",
       "\n",
       "      收入最大值     支出最大值  ...  各原始类别收支记录次数AGBN+FUSL  各原始类别收支记录次数AGBN+FD22  \\\n",
       "0  56388.00  -50000.0  ...                   0.0                   0.0   \n",
       "1  96000.00 -316000.0  ...                   0.0                   0.0   \n",
       "2   9245.31   -3000.0  ...                   0.0                   0.0   \n",
       "3    520.00    -520.0  ...                 645.0                   0.0   \n",
       "4  26941.90  -26941.0  ...                   0.0                   0.0   \n",
       "\n",
       "   各原始类别收支记录次数AGBN+RXTY  各原始类别收支记录次数AGBN+SDRP  各原始类别收支记录次数FUSL+FD22  \\\n",
       "0                   0.0                   0.0                   0.0   \n",
       "1                   0.0                   0.0                   0.0   \n",
       "2                   0.0                   0.0                   0.0   \n",
       "3                   0.0                   0.0                 645.0   \n",
       "4                   0.0                   0.0                   0.0   \n",
       "\n",
       "   各原始类别收支记录次数FUSL+RXTY  各原始类别收支记录次数FUSL+SDRP  各原始类别收支记录次数FD22+RXTY  \\\n",
       "0                   0.0                   0.0                   0.0   \n",
       "1                   0.0                   0.0                   0.0   \n",
       "2                   0.0                   0.0                   0.0   \n",
       "3                 645.0                 645.0                   0.0   \n",
       "4                   0.0                   0.0                   0.0   \n",
       "\n",
       "   各原始类别收支记录次数FD22+SDRP  各原始类别收支记录次数RXTY+SDRP  \n",
       "0                   0.0                   0.0  \n",
       "1                   0.0                   0.0  \n",
       "2                   0.0                   0.0  \n",
       "3                   0.0                   0.0  \n",
       "4                   0.0                   0.0  \n",
       "\n",
       "[5 rows x 768 columns]"
      ]
     },
     "execution_count": 12,
     "metadata": {},
     "output_type": "execute_result"
    }
   ],
   "source": [
    "features306 = pred_users306[['id']]\n",
    "\n",
    "用户基础属性306 = pd.read_csv(features_dir306 + \"用户基础属性.csv\")\n",
    "features306 = pd.merge(features306, 用户基础属性306, on='id', how='left')\n",
    "\n",
    "收入总和306 = pd.read_csv(features_dir306 + \"收入总和.csv\")\n",
    "features306 = pd.merge(features306, 收入总和306, on='id', how='left')\n",
    "\n",
    "支出总和306 = pd.read_csv(features_dir306 + \"支出总和.csv\")\n",
    "features306 = pd.merge(features306, 支出总和306, on='id', how='left')\n",
    "\n",
    "收支总和306 = pd.read_csv(features_dir306 + \"收支总和.csv\")\n",
    "features306 = pd.merge(features306, 收支总和306, on='id', how='left')\n",
    "\n",
    "收支记录次数306 = pd.read_csv(features_dir306 + \"收支记录次数.csv\")\n",
    "features306 = pd.merge(features306, 收支记录次数306, on='id', how='left')\n",
    "\n",
    "收入最大值306 = pd.read_csv(features_dir306 + \"收入最大值.csv\")\n",
    "features306 = pd.merge(features306, 收入最大值306, on='id', how='left')\n",
    "\n",
    "支出最大值306 = pd.read_csv(features_dir306 + \"支出最大值.csv\")\n",
    "features306 = pd.merge(features306, 支出最大值306, on='id', how='left')\n",
    "\n",
    "各类别收支记录次数306 = pd.read_csv(features_dir306 + \"各类别收支记录次数.csv\")\n",
    "features306 = pd.merge(features306, 各类别收支记录次数306, on='id', how='left')\n",
    "\n",
    "各类别收支金额306 = pd.read_csv(features_dir306 + \"各类别收支金额.csv\")\n",
    "features306 = pd.merge(features306, 各类别收支金额306, on='id', how='left')\n",
    "\n",
    "# 各原始类别收支记录次数306 = pd.read_csv(features_dir306 + \"各原始类别收支记录次数.csv\")\n",
    "# features306 = pd.merge(features306, 各原始类别收支记录次数306, on='id', how='left')\n",
    "\n",
    "各原始类别收支金额306 = pd.read_csv(features_dir306 + \"各原始类别收支金额.csv\")\n",
    "features306 = pd.merge(features306, 各原始类别收支金额306, on='id', how='left')\n",
    "\n",
    "# 细粒度收支总和_10306 = pd.read_csv(features_dir306 + \"细粒度收支总和_10.csv\")\n",
    "# features306 = pd.merge(features306, 细粒度收支总和_10306, on='id', how='left')\n",
    "\n",
    "# 对应时间收支总和306 = pd.read_csv(features_dir306 + \"对应时间收支总和.csv\")\n",
    "# features306 = pd.merge(features306, 对应时间收支总和306, on='id', how='left')\n",
    "\n",
    "# 对应时间支出总和306 = pd.read_csv(features_dir306 + \"对应时间支出总和.csv\")\n",
    "# features306 = pd.merge(features306, 对应时间支出总和306, on='id', how='left')\n",
    "\n",
    "# 对应时间收入总和306 = pd.read_csv(features_dir306 + \"对应时间收入总和.csv\")\n",
    "# features306 = pd.merge(features306, 对应时间收入总和306, on='id', how='left')\n",
    "\n",
    "收入均值306 = pd.read_csv(features_dir306 + \"收入均值.csv\")\n",
    "features306 = pd.merge(features306, 收入均值306, on='id', how='left')\n",
    "\n",
    "支出均值306 = pd.read_csv(features_dir306 + \"支出均值.csv\")\n",
    "features306 = pd.merge(features306, 支出均值306, on='id', how='left')\n",
    "\n",
    "收支均值306 = pd.read_csv(features_dir306 + \"收支均值.csv\")\n",
    "features306 = pd.merge(features306, 收支均值306, on='id', how='left')\n",
    "\n",
    "# 各类别收支平均金额306 = pd.read_csv(features_dir306 + \"各类别收支平均金额.csv\")\n",
    "# features306 = pd.merge(features306, 各类别收支平均金额306, on='id', how='left')\n",
    "\n",
    "# 细粒度收支总和_58306 = pd.read_csv(features_dir306 + \"细粒度收支总和_58.csv\")\n",
    "# features306 = pd.merge(features306, 细粒度收支总和_58306, on='id', how='left')\n",
    "\n",
    "# 类别次数两两相加组合特征306 = pd.read_csv(features_dir306 + \"类别次数两两相加组合特征.csv\")\n",
    "# features306 = pd.merge(features306, 类别次数两两相加组合特征306, on='id', how='left')\n",
    "\n",
    "# 类别金额两两相加组合特征306 = pd.read_csv(features_dir306 + \"类别金额两两相加组合特征.csv\")\n",
    "# features306 = pd.merge(features306, 类别金额两两相加组合特征306, on='id', how='left')\n",
    "\n",
    "# 原始类别次数两两相加组合特征306 = pd.read_csv(features_dir306 + \"原始类别次数两两相加组合特征.csv\")\n",
    "# features306 = pd.merge(features306, 原始类别次数两两相加组合特征306, on='id', how='left')\n",
    "\n",
    "原始类别金额两两相加组合特征306 = pd.read_csv(features_dir306 + \"原始类别金额两两相加组合特征.csv\")\n",
    "features306 = pd.merge(features306, 原始类别金额两两相加组合特征306, on='id', how='left')\n",
    "\n",
    "features306.head()"
   ]
  },
  {
   "cell_type": "code",
   "execution_count": 13,
   "metadata": {},
   "outputs": [
    {
     "data": {
      "text/html": [
       "<div>\n",
       "<style scoped>\n",
       "    .dataframe tbody tr th:only-of-type {\n",
       "        vertical-align: middle;\n",
       "    }\n",
       "\n",
       "    .dataframe tbody tr th {\n",
       "        vertical-align: top;\n",
       "    }\n",
       "\n",
       "    .dataframe thead th {\n",
       "        text-align: right;\n",
       "    }\n",
       "</style>\n",
       "<table border=\"1\" class=\"dataframe\">\n",
       "  <thead>\n",
       "    <tr style=\"text-align: right;\">\n",
       "      <th></th>\n",
       "      <th>id</th>\n",
       "      <th>gender</th>\n",
       "      <th>age</th>\n",
       "      <th>aum306</th>\n",
       "      <th>收入总和</th>\n",
       "      <th>支出总和</th>\n",
       "      <th>收支总和</th>\n",
       "      <th>收支记录次数</th>\n",
       "      <th>收入最大值</th>\n",
       "      <th>支出最大值</th>\n",
       "      <th>...</th>\n",
       "      <th>各原始类别收支记录次数AGBN+FUSL</th>\n",
       "      <th>各原始类别收支记录次数AGBN+FD22</th>\n",
       "      <th>各原始类别收支记录次数AGBN+RXTY</th>\n",
       "      <th>各原始类别收支记录次数AGBN+SDRP</th>\n",
       "      <th>各原始类别收支记录次数FUSL+FD22</th>\n",
       "      <th>各原始类别收支记录次数FUSL+RXTY</th>\n",
       "      <th>各原始类别收支记录次数FUSL+SDRP</th>\n",
       "      <th>各原始类别收支记录次数FD22+RXTY</th>\n",
       "      <th>各原始类别收支记录次数FD22+SDRP</th>\n",
       "      <th>各原始类别收支记录次数RXTY+SDRP</th>\n",
       "    </tr>\n",
       "  </thead>\n",
       "  <tbody>\n",
       "    <tr>\n",
       "      <th>0</th>\n",
       "      <td>1</td>\n",
       "      <td>0</td>\n",
       "      <td>52.0</td>\n",
       "      <td>183186.95</td>\n",
       "      <td>131673.00</td>\n",
       "      <td>-119682.00</td>\n",
       "      <td>11991.00</td>\n",
       "      <td>17.0</td>\n",
       "      <td>56388.00</td>\n",
       "      <td>-50000.0</td>\n",
       "      <td>...</td>\n",
       "      <td>0.0</td>\n",
       "      <td>0.0</td>\n",
       "      <td>0.0</td>\n",
       "      <td>0.0</td>\n",
       "      <td>0.0</td>\n",
       "      <td>0.0</td>\n",
       "      <td>0.0</td>\n",
       "      <td>0.0</td>\n",
       "      <td>0.0</td>\n",
       "      <td>0.0</td>\n",
       "    </tr>\n",
       "    <tr>\n",
       "      <th>1</th>\n",
       "      <td>2</td>\n",
       "      <td>0</td>\n",
       "      <td>32.0</td>\n",
       "      <td>228428.96</td>\n",
       "      <td>344531.20</td>\n",
       "      <td>-348116.40</td>\n",
       "      <td>-3585.20</td>\n",
       "      <td>31.0</td>\n",
       "      <td>96000.00</td>\n",
       "      <td>-316000.0</td>\n",
       "      <td>...</td>\n",
       "      <td>0.0</td>\n",
       "      <td>0.0</td>\n",
       "      <td>0.0</td>\n",
       "      <td>0.0</td>\n",
       "      <td>0.0</td>\n",
       "      <td>0.0</td>\n",
       "      <td>0.0</td>\n",
       "      <td>0.0</td>\n",
       "      <td>0.0</td>\n",
       "      <td>0.0</td>\n",
       "    </tr>\n",
       "    <tr>\n",
       "      <th>2</th>\n",
       "      <td>3</td>\n",
       "      <td>0</td>\n",
       "      <td>22.0</td>\n",
       "      <td>1977.68</td>\n",
       "      <td>16136.37</td>\n",
       "      <td>-18189.36</td>\n",
       "      <td>-2052.99</td>\n",
       "      <td>162.0</td>\n",
       "      <td>9245.31</td>\n",
       "      <td>-3000.0</td>\n",
       "      <td>...</td>\n",
       "      <td>0.0</td>\n",
       "      <td>0.0</td>\n",
       "      <td>0.0</td>\n",
       "      <td>0.0</td>\n",
       "      <td>0.0</td>\n",
       "      <td>0.0</td>\n",
       "      <td>0.0</td>\n",
       "      <td>0.0</td>\n",
       "      <td>0.0</td>\n",
       "      <td>0.0</td>\n",
       "    </tr>\n",
       "    <tr>\n",
       "      <th>3</th>\n",
       "      <td>4</td>\n",
       "      <td>1</td>\n",
       "      <td>21.0</td>\n",
       "      <td>392.47</td>\n",
       "      <td>1910.00</td>\n",
       "      <td>-1905.03</td>\n",
       "      <td>4.97</td>\n",
       "      <td>44.0</td>\n",
       "      <td>520.00</td>\n",
       "      <td>-520.0</td>\n",
       "      <td>...</td>\n",
       "      <td>645.0</td>\n",
       "      <td>0.0</td>\n",
       "      <td>0.0</td>\n",
       "      <td>0.0</td>\n",
       "      <td>645.0</td>\n",
       "      <td>645.0</td>\n",
       "      <td>645.0</td>\n",
       "      <td>0.0</td>\n",
       "      <td>0.0</td>\n",
       "      <td>0.0</td>\n",
       "    </tr>\n",
       "    <tr>\n",
       "      <th>4</th>\n",
       "      <td>5</td>\n",
       "      <td>0</td>\n",
       "      <td>32.0</td>\n",
       "      <td>149.65</td>\n",
       "      <td>137770.08</td>\n",
       "      <td>-137714.49</td>\n",
       "      <td>55.59</td>\n",
       "      <td>39.0</td>\n",
       "      <td>26941.90</td>\n",
       "      <td>-26941.0</td>\n",
       "      <td>...</td>\n",
       "      <td>0.0</td>\n",
       "      <td>0.0</td>\n",
       "      <td>0.0</td>\n",
       "      <td>0.0</td>\n",
       "      <td>0.0</td>\n",
       "      <td>0.0</td>\n",
       "      <td>0.0</td>\n",
       "      <td>0.0</td>\n",
       "      <td>0.0</td>\n",
       "      <td>0.0</td>\n",
       "    </tr>\n",
       "  </tbody>\n",
       "</table>\n",
       "<p>5 rows × 768 columns</p>\n",
       "</div>"
      ],
      "text/plain": [
       "   id  gender   age     aum306       收入总和       支出总和      收支总和  收支记录次数  \\\n",
       "0   1       0  52.0  183186.95  131673.00 -119682.00  11991.00    17.0   \n",
       "1   2       0  32.0  228428.96  344531.20 -348116.40  -3585.20    31.0   \n",
       "2   3       0  22.0    1977.68   16136.37  -18189.36  -2052.99   162.0   \n",
       "3   4       1  21.0     392.47    1910.00   -1905.03      4.97    44.0   \n",
       "4   5       0  32.0     149.65  137770.08 -137714.49     55.59    39.0   \n",
       "\n",
       "      收入最大值     支出最大值  ...  各原始类别收支记录次数AGBN+FUSL  各原始类别收支记录次数AGBN+FD22  \\\n",
       "0  56388.00  -50000.0  ...                   0.0                   0.0   \n",
       "1  96000.00 -316000.0  ...                   0.0                   0.0   \n",
       "2   9245.31   -3000.0  ...                   0.0                   0.0   \n",
       "3    520.00    -520.0  ...                 645.0                   0.0   \n",
       "4  26941.90  -26941.0  ...                   0.0                   0.0   \n",
       "\n",
       "   各原始类别收支记录次数AGBN+RXTY  各原始类别收支记录次数AGBN+SDRP  各原始类别收支记录次数FUSL+FD22  \\\n",
       "0                   0.0                   0.0                   0.0   \n",
       "1                   0.0                   0.0                   0.0   \n",
       "2                   0.0                   0.0                   0.0   \n",
       "3                   0.0                   0.0                 645.0   \n",
       "4                   0.0                   0.0                   0.0   \n",
       "\n",
       "   各原始类别收支记录次数FUSL+RXTY  各原始类别收支记录次数FUSL+SDRP  各原始类别收支记录次数FD22+RXTY  \\\n",
       "0                   0.0                   0.0                   0.0   \n",
       "1                   0.0                   0.0                   0.0   \n",
       "2                   0.0                   0.0                   0.0   \n",
       "3                 645.0                 645.0                   0.0   \n",
       "4                   0.0                   0.0                   0.0   \n",
       "\n",
       "   各原始类别收支记录次数FD22+SDRP  各原始类别收支记录次数RXTY+SDRP  \n",
       "0                   0.0                   0.0  \n",
       "1                   0.0                   0.0  \n",
       "2                   0.0                   0.0  \n",
       "3                   0.0                   0.0  \n",
       "4                   0.0                   0.0  \n",
       "\n",
       "[5 rows x 768 columns]"
      ]
     },
     "execution_count": 13,
     "metadata": {},
     "output_type": "execute_result"
    }
   ],
   "source": [
    "X306_raw = pd.merge(pred_users306, features306, on='id', how='left')\n",
    "X306_raw.head()"
   ]
  },
  {
   "cell_type": "code",
   "execution_count": 14,
   "metadata": {},
   "outputs": [],
   "source": [
    "# set(X306.columns) - set(X227.columns)"
   ]
  },
  {
   "cell_type": "code",
   "execution_count": 15,
   "metadata": {},
   "outputs": [],
   "source": [
    "# set(X227.columns) - set(X306.columns)"
   ]
  },
  {
   "cell_type": "code",
   "execution_count": 16,
   "metadata": {},
   "outputs": [
    {
     "data": {
      "text/html": [
       "<div>\n",
       "<style scoped>\n",
       "    .dataframe tbody tr th:only-of-type {\n",
       "        vertical-align: middle;\n",
       "    }\n",
       "\n",
       "    .dataframe tbody tr th {\n",
       "        vertical-align: top;\n",
       "    }\n",
       "\n",
       "    .dataframe thead th {\n",
       "        text-align: right;\n",
       "    }\n",
       "</style>\n",
       "<table border=\"1\" class=\"dataframe\">\n",
       "  <thead>\n",
       "    <tr style=\"text-align: right;\">\n",
       "      <th></th>\n",
       "      <th>gender</th>\n",
       "      <th>age</th>\n",
       "      <th>aum227</th>\n",
       "      <th>收入总和</th>\n",
       "      <th>支出总和</th>\n",
       "      <th>收支总和</th>\n",
       "      <th>收支记录次数</th>\n",
       "      <th>收入最大值</th>\n",
       "      <th>支出最大值</th>\n",
       "      <th>101_x</th>\n",
       "      <th>...</th>\n",
       "      <th>各原始类别收支记录次数AGBN+FUSL</th>\n",
       "      <th>各原始类别收支记录次数AGBN+FD22</th>\n",
       "      <th>各原始类别收支记录次数AGBN+RXTY</th>\n",
       "      <th>各原始类别收支记录次数AGBN+SDRP</th>\n",
       "      <th>各原始类别收支记录次数FUSL+FD22</th>\n",
       "      <th>各原始类别收支记录次数FUSL+RXTY</th>\n",
       "      <th>各原始类别收支记录次数FUSL+SDRP</th>\n",
       "      <th>各原始类别收支记录次数FD22+RXTY</th>\n",
       "      <th>各原始类别收支记录次数FD22+SDRP</th>\n",
       "      <th>各原始类别收支记录次数RXTY+SDRP</th>\n",
       "    </tr>\n",
       "  </thead>\n",
       "  <tbody>\n",
       "    <tr>\n",
       "      <th>0</th>\n",
       "      <td>0</td>\n",
       "      <td>52.0</td>\n",
       "      <td>183186.95</td>\n",
       "      <td>131673.00</td>\n",
       "      <td>-119682.00</td>\n",
       "      <td>11991.00</td>\n",
       "      <td>17.0</td>\n",
       "      <td>56388.00</td>\n",
       "      <td>-50000.0</td>\n",
       "      <td>0.0</td>\n",
       "      <td>...</td>\n",
       "      <td>0.0</td>\n",
       "      <td>0.0</td>\n",
       "      <td>0.0</td>\n",
       "      <td>0.0</td>\n",
       "      <td>0.0</td>\n",
       "      <td>0.0</td>\n",
       "      <td>0.0</td>\n",
       "      <td>0.0</td>\n",
       "      <td>0.0</td>\n",
       "      <td>0.0</td>\n",
       "    </tr>\n",
       "    <tr>\n",
       "      <th>1</th>\n",
       "      <td>0</td>\n",
       "      <td>32.0</td>\n",
       "      <td>228428.96</td>\n",
       "      <td>344531.20</td>\n",
       "      <td>-348116.40</td>\n",
       "      <td>-3585.20</td>\n",
       "      <td>31.0</td>\n",
       "      <td>96000.00</td>\n",
       "      <td>-316000.0</td>\n",
       "      <td>0.0</td>\n",
       "      <td>...</td>\n",
       "      <td>0.0</td>\n",
       "      <td>0.0</td>\n",
       "      <td>0.0</td>\n",
       "      <td>0.0</td>\n",
       "      <td>0.0</td>\n",
       "      <td>0.0</td>\n",
       "      <td>0.0</td>\n",
       "      <td>0.0</td>\n",
       "      <td>0.0</td>\n",
       "      <td>0.0</td>\n",
       "    </tr>\n",
       "    <tr>\n",
       "      <th>2</th>\n",
       "      <td>0</td>\n",
       "      <td>22.0</td>\n",
       "      <td>1977.68</td>\n",
       "      <td>16136.37</td>\n",
       "      <td>-18189.36</td>\n",
       "      <td>-2052.99</td>\n",
       "      <td>162.0</td>\n",
       "      <td>9245.31</td>\n",
       "      <td>-3000.0</td>\n",
       "      <td>0.0</td>\n",
       "      <td>...</td>\n",
       "      <td>0.0</td>\n",
       "      <td>0.0</td>\n",
       "      <td>0.0</td>\n",
       "      <td>0.0</td>\n",
       "      <td>0.0</td>\n",
       "      <td>0.0</td>\n",
       "      <td>0.0</td>\n",
       "      <td>0.0</td>\n",
       "      <td>0.0</td>\n",
       "      <td>0.0</td>\n",
       "    </tr>\n",
       "    <tr>\n",
       "      <th>3</th>\n",
       "      <td>1</td>\n",
       "      <td>21.0</td>\n",
       "      <td>392.47</td>\n",
       "      <td>1910.00</td>\n",
       "      <td>-1905.03</td>\n",
       "      <td>4.97</td>\n",
       "      <td>44.0</td>\n",
       "      <td>520.00</td>\n",
       "      <td>-520.0</td>\n",
       "      <td>0.0</td>\n",
       "      <td>...</td>\n",
       "      <td>645.0</td>\n",
       "      <td>0.0</td>\n",
       "      <td>0.0</td>\n",
       "      <td>0.0</td>\n",
       "      <td>645.0</td>\n",
       "      <td>645.0</td>\n",
       "      <td>645.0</td>\n",
       "      <td>0.0</td>\n",
       "      <td>0.0</td>\n",
       "      <td>0.0</td>\n",
       "    </tr>\n",
       "    <tr>\n",
       "      <th>4</th>\n",
       "      <td>0</td>\n",
       "      <td>32.0</td>\n",
       "      <td>149.65</td>\n",
       "      <td>137770.08</td>\n",
       "      <td>-137714.49</td>\n",
       "      <td>55.59</td>\n",
       "      <td>39.0</td>\n",
       "      <td>26941.90</td>\n",
       "      <td>-26941.0</td>\n",
       "      <td>0.0</td>\n",
       "      <td>...</td>\n",
       "      <td>0.0</td>\n",
       "      <td>0.0</td>\n",
       "      <td>0.0</td>\n",
       "      <td>0.0</td>\n",
       "      <td>0.0</td>\n",
       "      <td>0.0</td>\n",
       "      <td>0.0</td>\n",
       "      <td>0.0</td>\n",
       "      <td>0.0</td>\n",
       "      <td>0.0</td>\n",
       "    </tr>\n",
       "  </tbody>\n",
       "</table>\n",
       "<p>5 rows × 767 columns</p>\n",
       "</div>"
      ],
      "text/plain": [
       "   gender   age     aum227       收入总和       支出总和      收支总和  收支记录次数     收入最大值  \\\n",
       "0       0  52.0  183186.95  131673.00 -119682.00  11991.00    17.0  56388.00   \n",
       "1       0  32.0  228428.96  344531.20 -348116.40  -3585.20    31.0  96000.00   \n",
       "2       0  22.0    1977.68   16136.37  -18189.36  -2052.99   162.0   9245.31   \n",
       "3       1  21.0     392.47    1910.00   -1905.03      4.97    44.0    520.00   \n",
       "4       0  32.0     149.65  137770.08 -137714.49     55.59    39.0  26941.90   \n",
       "\n",
       "      支出最大值  101_x  ...  各原始类别收支记录次数AGBN+FUSL  各原始类别收支记录次数AGBN+FD22  \\\n",
       "0  -50000.0    0.0  ...                   0.0                   0.0   \n",
       "1 -316000.0    0.0  ...                   0.0                   0.0   \n",
       "2   -3000.0    0.0  ...                   0.0                   0.0   \n",
       "3    -520.0    0.0  ...                 645.0                   0.0   \n",
       "4  -26941.0    0.0  ...                   0.0                   0.0   \n",
       "\n",
       "   各原始类别收支记录次数AGBN+RXTY  各原始类别收支记录次数AGBN+SDRP  各原始类别收支记录次数FUSL+FD22  \\\n",
       "0                   0.0                   0.0                   0.0   \n",
       "1                   0.0                   0.0                   0.0   \n",
       "2                   0.0                   0.0                   0.0   \n",
       "3                   0.0                   0.0                 645.0   \n",
       "4                   0.0                   0.0                   0.0   \n",
       "\n",
       "   各原始类别收支记录次数FUSL+RXTY  各原始类别收支记录次数FUSL+SDRP  各原始类别收支记录次数FD22+RXTY  \\\n",
       "0                   0.0                   0.0                   0.0   \n",
       "1                   0.0                   0.0                   0.0   \n",
       "2                   0.0                   0.0                   0.0   \n",
       "3                 645.0                 645.0                   0.0   \n",
       "4                   0.0                   0.0                   0.0   \n",
       "\n",
       "   各原始类别收支记录次数FD22+SDRP  各原始类别收支记录次数RXTY+SDRP  \n",
       "0                   0.0                   0.0  \n",
       "1                   0.0                   0.0  \n",
       "2                   0.0                   0.0  \n",
       "3                   0.0                   0.0  \n",
       "4                   0.0                   0.0  \n",
       "\n",
       "[5 rows x 767 columns]"
      ]
     },
     "execution_count": 16,
     "metadata": {},
     "output_type": "execute_result"
    }
   ],
   "source": [
    "X306 = X306_raw.iloc[:,1:]\n",
    "# X306 = X306_raw.drop(['id'], axis=1)\n",
    "X306.columns = X227.columns\n",
    "X306.head()"
   ]
  },
  {
   "cell_type": "code",
   "execution_count": 17,
   "metadata": {},
   "outputs": [
    {
     "name": "stdout",
     "output_type": "stream",
     "text": [
      "(94655, 768)\n"
     ]
    }
   ],
   "source": [
    "print(features306.shape)"
   ]
  },
  {
   "cell_type": "code",
   "execution_count": 18,
   "metadata": {},
   "outputs": [],
   "source": [
    "X227_csr = sparse.csr_matrix(X227)\n",
    "X306_csr = sparse.csr_matrix(X306)"
   ]
  },
  {
   "cell_type": "code",
   "execution_count": 19,
   "metadata": {},
   "outputs": [],
   "source": [
    "# sample_weight227 = np.zeros((X227.shape[0],), dtype=int)\n",
    "# sample_weight227[Y227==0] = 1\n",
    "# sample_weight227[Y227==1] = 3\n",
    "# sample_weight227"
   ]
  },
  {
   "cell_type": "code",
   "execution_count": 20,
   "metadata": {},
   "outputs": [
    {
     "name": "stdout",
     "output_type": "stream",
     "text": [
      "0.6980110340588368\n",
      "0.6984148117846691\n",
      "0.6975678030303031\n",
      "0.6968899242424242\n",
      "0.694571893939394\n",
      "mean_roc_score: 0.6970910934111255\n"
     ]
    }
   ],
   "source": [
    "# %%time\n",
    "kf = StratifiedKFold(n_splits=5, shuffle=True, random_state=42)\n",
    "preds306 = np.zeros((X306_csr.shape[0]))\n",
    "i = 0\n",
    "models = [0]*kf.get_n_splits()\n",
    "roc_scores = []\n",
    "for train_index, val_index in kf.split(X227_csr, Y227):\n",
    "    X_train, X_val = X227_csr[train_index], X227_csr[val_index]\n",
    "    y_train, y_val = Y227[train_index], Y227[val_index]\n",
    "    eval_set = [(X_train, y_train), (X_val, y_val)]\n",
    "#     sample_weight227_train = sample_weight227[train_index]\n",
    "    models[i] = xgb.XGBClassifier(n_estimators=300,\n",
    "                                  n_jobs = 6,\n",
    "                                  random_state=42)\n",
    "#     models[i].fit(X_train, y_train, eval_metric=['auc', \"error\", \"logloss\"], eval_set=eval_set, verbose=False, early_stopping_rounds=40, sample_weight=sample_weight227_train)\n",
    "    models[i].fit(X_train, y_train, eval_metric=['auc', \"error\", \"logloss\"], eval_set=eval_set, verbose=False)\n",
    "\n",
    "    score = models[i].predict_proba(X_val)[:, 1]\n",
    "    \n",
    "    roc = roc_auc_score(y_val, score)\n",
    "    roc_scores.append(roc)\n",
    "    \n",
    "    print(roc)\n",
    "    \n",
    "    preds306 = preds306 + models[i].predict_proba(X306_csr)[:,1]\n",
    "    \n",
    "    i+=1\n",
    "\n",
    "preds306 = preds306 / kf.get_n_splits()\n",
    "pickle.dump(preds306, open(inter_dir + 'preds306.p', 'wb'))\n",
    "print(\"mean_roc_score: {}\".format(np.mean(roc_scores)))"
   ]
  },
  {
   "cell_type": "code",
   "execution_count": null,
   "metadata": {},
   "outputs": [],
   "source": []
  },
  {
   "cell_type": "code",
   "execution_count": 18,
   "metadata": {},
   "outputs": [],
   "source": [
    "# for i in roc_scores:\n",
    "#     print(i)\n",
    "# print(\"mean_roc_score: {}\".format(np.mean(roc_scores)))"
   ]
  },
  {
   "cell_type": "code",
   "execution_count": 29,
   "metadata": {},
   "outputs": [
    {
     "name": "stdout",
     "output_type": "stream",
     "text": [
      "300\n",
      "300\n",
      "300\n",
      "300\n",
      "300\n"
     ]
    }
   ],
   "source": [
    "for i in range(kf.get_n_splits()):\n",
    "    results = models[i].evals_result()\n",
    "    print(len(results['validation_0']['auc']))"
   ]
  },
  {
   "cell_type": "code",
   "execution_count": 31,
   "metadata": {},
   "outputs": [
    {
     "data": {
      "text/html": [
       "<div>\n",
       "<style scoped>\n",
       "    .dataframe tbody tr th:only-of-type {\n",
       "        vertical-align: middle;\n",
       "    }\n",
       "\n",
       "    .dataframe tbody tr th {\n",
       "        vertical-align: top;\n",
       "    }\n",
       "\n",
       "    .dataframe thead th {\n",
       "        text-align: right;\n",
       "    }\n",
       "</style>\n",
       "<table border=\"1\" class=\"dataframe\">\n",
       "  <thead>\n",
       "    <tr style=\"text-align: right;\">\n",
       "      <th></th>\n",
       "      <th>feature</th>\n",
       "      <th>score</th>\n",
       "      <th>rank</th>\n",
       "    </tr>\n",
       "  </thead>\n",
       "  <tbody>\n",
       "    <tr>\n",
       "      <th>700</th>\n",
       "      <td>各原始类别收支记录次数PLAG+SDRP</td>\n",
       "      <td>0.024174</td>\n",
       "      <td>1.0</td>\n",
       "    </tr>\n",
       "    <tr>\n",
       "      <th>368</th>\n",
       "      <td>ONNK</td>\n",
       "      <td>0.023449</td>\n",
       "      <td>2.0</td>\n",
       "    </tr>\n",
       "    <tr>\n",
       "      <th>114</th>\n",
       "      <td>210_y</td>\n",
       "      <td>0.020286</td>\n",
       "      <td>3.0</td>\n",
       "    </tr>\n",
       "    <tr>\n",
       "      <th>105</th>\n",
       "      <td>201_y</td>\n",
       "      <td>0.018027</td>\n",
       "      <td>4.0</td>\n",
       "    </tr>\n",
       "    <tr>\n",
       "      <th>57</th>\n",
       "      <td>213_x</td>\n",
       "      <td>0.017289</td>\n",
       "      <td>5.0</td>\n",
       "    </tr>\n",
       "  </tbody>\n",
       "</table>\n",
       "</div>"
      ],
      "text/plain": [
       "                  feature     score  rank\n",
       "700  各原始类别收支记录次数PLAG+SDRP  0.024174   1.0\n",
       "368                  ONNK  0.023449   2.0\n",
       "114                 210_y  0.020286   3.0\n",
       "105                 201_y  0.018027   4.0\n",
       "57                  213_x  0.017289   5.0"
      ]
     },
     "execution_count": 31,
     "metadata": {},
     "output_type": "execute_result"
    }
   ],
   "source": [
    "# 保存模型的feature_scores\n",
    "for i in range(kf.get_n_splits()):\n",
    "    model = models[i]\n",
    "    feature_scores = pd.DataFrame(list(X306.columns), columns=['feature'])\n",
    "    feature_scores['score'] = model.feature_importances_\n",
    "    feature_scores['rank'] = feature_scores['score'].rank(method = 'min', ascending=False)\n",
    "    feature_scores = feature_scores.sort_values('score',ascending=False)\n",
    "    feature_scores.to_csv(inter_dir + 'feature_scores_特征选择001_原始类别金额组合'+str(i)+'.csv')\n",
    "feature_scores.head()"
   ]
  },
  {
   "cell_type": "code",
   "execution_count": 35,
   "metadata": {},
   "outputs": [],
   "source": [
    "# X227.loc[:,['gender','age']]\n",
    "sfeatures = set()\n",
    "for i in range(kf.get_n_splits()):\n",
    "    feature_scores = pd.read_csv(inter_dir + 'feature_scores_特征选择001_'+str(i)+'.csv')\n",
    "    sfeatures |= set(feature_scores.loc[feature_scores['score']>0.0000, 'feature'])\n",
    "sfeatures = list(sfeatures)"
   ]
  },
  {
   "cell_type": "code",
   "execution_count": 36,
   "metadata": {},
   "outputs": [],
   "source": [
    "pickle.dump(sfeatures, open(inter_dir + 'sfeatures.p','wb'))"
   ]
  },
  {
   "cell_type": "code",
   "execution_count": 37,
   "metadata": {},
   "outputs": [],
   "source": [
    "sfeatures = pickle.load(open(inter_dir + 'sfeatures.p','rb'))"
   ]
  },
  {
   "cell_type": "code",
   "execution_count": 38,
   "metadata": {},
   "outputs": [
    {
     "data": {
      "text/plain": [
       "['各类别收支记录次数207+311',\n",
       " '133_x',\n",
       " '213_y',\n",
       " '各类别收支记录次数310+210',\n",
       " '117_y',\n",
       " 'AKWT',\n",
       " '各类别收支记录次数304+310',\n",
       " '各类别收支记录次数134+311',\n",
       " '各类别收支记录次数103+129',\n",
       " '各类别收支记录次数125+116']"
      ]
     },
     "execution_count": 38,
     "metadata": {},
     "output_type": "execute_result"
    }
   ],
   "source": [
    "sfeatures[:10]"
   ]
  },
  {
   "cell_type": "code",
   "execution_count": 39,
   "metadata": {},
   "outputs": [
    {
     "name": "stdout",
     "output_type": "stream",
     "text": [
      "(108252, 744)\n",
      "(94655, 744)\n"
     ]
    }
   ],
   "source": [
    "print(X227_csr.shape)\n",
    "print(X306_csr.shape)"
   ]
  },
  {
   "cell_type": "code",
   "execution_count": 44,
   "metadata": {},
   "outputs": [],
   "source": [
    "X227_csr = sparse.csr_matrix(X227.loc[:,sfeatures])\n",
    "X306_csr = sparse.csr_matrix(X306.loc[:,sfeatures])"
   ]
  },
  {
   "cell_type": "code",
   "execution_count": 45,
   "metadata": {},
   "outputs": [
    {
     "name": "stdout",
     "output_type": "stream",
     "text": [
      "(108252, 314)\n",
      "(94655, 314)\n"
     ]
    }
   ],
   "source": [
    "print(X227_csr.shape)\n",
    "print(X306_csr.shape)"
   ]
  },
  {
   "cell_type": "code",
   "execution_count": 56,
   "metadata": {},
   "outputs": [
    {
     "name": "stdout",
     "output_type": "stream",
     "text": [
      "0.6985449998268488\n",
      "0.6996074879227053\n",
      "0.6963534307359307\n",
      "0.699112012987013\n",
      "0.6965032142857143\n",
      "mean_roc_score: 0.6980242291516424\n"
     ]
    }
   ],
   "source": [
    "# %%time\n",
    "kf = StratifiedKFold(n_splits=5, shuffle=True, random_state=42)\n",
    "preds306 = np.zeros((X306_csr.shape[0]))\n",
    "i = 0\n",
    "models = [0]*kf.get_n_splits()\n",
    "roc_scores = []\n",
    "for train_index, val_index in kf.split(X227_csr, Y227):\n",
    "    X_train, X_val = X227_csr[train_index], X227_csr[val_index]\n",
    "    y_train, y_val = Y227[train_index], Y227[val_index]\n",
    "    eval_set = [(X_train, y_train), (X_val, y_val)]\n",
    "#     sample_weight227_train = sample_weight227[train_index]\n",
    "    models[i] = xgb.XGBClassifier(n_estimators=400,\n",
    "                                  n_jobs = 6,\n",
    "                                  random_state=42)\n",
    "#     models[i].fit(X_train, y_train, eval_metric=['auc', \"error\", \"logloss\"], eval_set=eval_set, verbose=False, early_stopping_rounds=40, sample_weight=sample_weight227_train)\n",
    "    models[i].fit(X_train, y_train, eval_metric=['auc', \"error\", \"logloss\"], eval_set=eval_set, verbose=False)\n",
    "\n",
    "    score = models[i].predict_proba(X_val)[:, 1]\n",
    "    \n",
    "    roc = roc_auc_score(y_val, score)\n",
    "    roc_scores.append(roc)\n",
    "    \n",
    "    print(roc)\n",
    "    \n",
    "    preds306 = preds306 + models[i].predict_proba(X306_csr)[:,1]\n",
    "    \n",
    "    i+=1\n",
    "\n",
    "preds306 = preds306 / kf.get_n_splits()\n",
    "pickle.dump(preds306, open(inter_dir + 'preds306.p', 'wb'))\n",
    "print(\"mean_roc_score: {}\".format(np.mean(roc_scores)))"
   ]
  },
  {
   "cell_type": "code",
   "execution_count": 20,
   "metadata": {},
   "outputs": [
    {
     "data": {
      "image/png": "[encoded data removed]",
      "text/plain": [
       "<Figure size 432x288 with 1 Axes>"
      ]
     },
     "metadata": {
      "needs_background": "light"
     },
     "output_type": "display_data"
    },
    {
     "data": {
      "image/png": "[encoded data removed]",
      "text/plain": [
       "<Figure size 432x288 with 1 Axes>"
      ]
     },
     "metadata": {
      "needs_background": "light"
     },
     "output_type": "display_data"
    },
    {
     "data": {
      "image/png": "[encoded data removed]",
      "text/plain": [
       "<Figure size 432x288 with 1 Axes>"
      ]
     },
     "metadata": {
      "needs_background": "light"
     },
     "output_type": "display_data"
    },
    {
     "data": {
      "image/png": "[encoded data removed]",
      "text/plain": [
       "<Figure size 432x288 with 1 Axes>"
      ]
     },
     "metadata": {
      "needs_background": "light"
     },
     "output_type": "display_data"
    },
    {
     "data": {
      "image/png": "[encoded data removed]",
      "text/plain": [
       "<Figure size 432x288 with 1 Axes>"
      ]
     },
     "metadata": {
      "needs_background": "light"
     },
     "output_type": "display_data"
    },
    {
     "data": {
      "image/png": "[encoded data removed]",
      "text/plain": [
       "<Figure size 432x288 with 1 Axes>"
      ]
     },
     "metadata": {
      "needs_background": "light"
     },
     "output_type": "display_data"
    },
    {
     "data": {
      "image/png": "[encoded data removed]",
      "text/plain": [
       "<Figure size 432x288 with 1 Axes>"
      ]
     },
     "metadata": {
      "needs_background": "light"
     },
     "output_type": "display_data"
    },
    {
     "data": {
      "image/png": "[encoded data removed]",
      "text/plain": [
       "<Figure size 432x288 with 1 Axes>"
      ]
     },
     "metadata": {
      "needs_background": "light"
     },
     "output_type": "display_data"
    },
    {
     "data": {
      "image/png": "[encoded data removed]",
      "text/plain": [
       "<Figure size 432x288 with 1 Axes>"
      ]
     },
     "metadata": {
      "needs_background": "light"
     },
     "output_type": "display_data"
    },
    {
     "data": {
      "image/png": "[encoded data removed]",
      "text/plain": [
       "<Figure size 432x288 with 1 Axes>"
      ]
     },
     "metadata": {
      "needs_background": "light"
     },
     "output_type": "display_data"
    },
    {
     "data": {
      "image/png": "[encoded data removed]",
      "text/plain": [
       "<Figure size 432x288 with 1 Axes>"
      ]
     },
     "metadata": {
      "needs_background": "light"
     },
     "output_type": "display_data"
    },
    {
     "data": {
      "image/png": "[encoded data removed]",
      "text/plain": [
       "<Figure size 432x288 with 1 Axes>"
      ]
     },
     "metadata": {
      "needs_background": "light"
     },
     "output_type": "display_data"
    },
    {
     "data": {
      "image/png": "[encoded data removed]",
      "text/plain": [
       "<Figure size 432x288 with 1 Axes>"
      ]
     },
     "metadata": {
      "needs_background": "light"
     },
     "output_type": "display_data"
    },
    {
     "data": {
      "image/png": "[encoded data removed]",
      "text/plain": [
       "<Figure size 432x288 with 1 Axes>"
      ]
     },
     "metadata": {
      "needs_background": "light"
     },
     "output_type": "display_data"
    },
    {
     "data": {
      "image/png": "[encoded data removed]",
      "text/plain": [
       "<Figure size 432x288 with 1 Axes>"
      ]
     },
     "metadata": {
      "needs_background": "light"
     },
     "output_type": "display_data"
    }
   ],
   "source": [
    "def plot_learning_curve(results):\n",
    "    epochs = len(results['validation_0']['auc'])\n",
    "    x_axis = range(0, epochs)\n",
    "    # plot auc\n",
    "    fig, ax = plt.subplots()\n",
    "    ax.plot(x_axis, results['validation_0']['auc'], label='Train')\n",
    "    ax.plot(x_axis, results['validation_1']['auc'], label='Test')\n",
    "    ax.legend()\n",
    "    plt.ylabel('auc')\n",
    "    plt.title('XGBoost auc')\n",
    "    plt.show()\n",
    "    # plot log loss\n",
    "    fig, ax = plt.subplots()\n",
    "    ax.plot(x_axis, results['validation_0']['logloss'], label='Train')\n",
    "    ax.plot(x_axis, results['validation_1']['logloss'], label='Test')\n",
    "    ax.legend()\n",
    "    plt.ylabel('Log Loss')\n",
    "    plt.title('XGBoost Log Loss')\n",
    "    plt.show()\n",
    "    # plot classification error\n",
    "    fig, ax = plt.subplots()\n",
    "    ax.plot(x_axis, results['validation_0']['error'], label='Train')\n",
    "    ax.plot(x_axis, results['validation_1']['error'], label='Test')\n",
    "    ax.legend()\n",
    "    plt.ylabel('Classification Error')\n",
    "    plt.title('XGBoost Classification Error')\n",
    "    plt.show()\n",
    "\n",
    "for i in range(kf.get_n_splits()):\n",
    "    results = models[i].evals_result()\n",
    "    plot_learning_curve(results)"
   ]
  },
  {
   "cell_type": "code",
   "execution_count": 23,
   "metadata": {},
   "outputs": [],
   "source": [
    "model = models[-1]"
   ]
  },
  {
   "cell_type": "code",
   "execution_count": 24,
   "metadata": {},
   "outputs": [
    {
     "data": {
      "image/png": "[encoded data removed]",
      "text/plain": [
       "<Figure size 432x288 with 1 Axes>"
      ]
     },
     "metadata": {
      "needs_background": "light"
     },
     "output_type": "display_data"
    }
   ],
   "source": [
    "fig = xgb.plot_importance(model, max_num_features=10)"
   ]
  },
  {
   "cell_type": "code",
   "execution_count": 25,
   "metadata": {},
   "outputs": [
    {
     "data": {
      "image/png": "[encoded data removed]",
      "text/plain": [
       "<Figure size 432x288 with 1 Axes>"
      ]
     },
     "metadata": {
      "needs_background": "light"
     },
     "output_type": "display_data"
    }
   ],
   "source": [
    "# plot\n",
    "plt.bar(range(len(model.feature_importances_)), model.feature_importances_)\n",
    "plt.show()"
   ]
  },
  {
   "cell_type": "code",
   "execution_count": 26,
   "metadata": {},
   "outputs": [
    {
     "data": {
      "text/plain": [
       "Index(['gender', 'age', 'aum227', '收入总和', '支出总和', '收支总和', '收支记录次数', '收入最大值',\n",
       "       '支出最大值', '101_x',\n",
       "       ...\n",
       "       '各原始类别收支记录次数AGPY+FP05', '各原始类别收支记录次数AGPY+SSW2', '各原始类别收支记录次数AGPY+PLBV',\n",
       "       '各原始类别收支记录次数AGPY+DPSZ', '各原始类别收支记录次数FP05+SSW2', '各原始类别收支记录次数FP05+PLBV',\n",
       "       '各原始类别收支记录次数FP05+DPSZ', '各原始类别收支记录次数SSW2+PLBV', '各原始类别收支记录次数SSW2+DPSZ',\n",
       "       '各原始类别收支记录次数PLBV+DPSZ'],\n",
       "      dtype='object', length=767)"
      ]
     },
     "execution_count": 26,
     "metadata": {},
     "output_type": "execute_result"
    }
   ],
   "source": [
    "X306.columns"
   ]
  },
  {
   "cell_type": "code",
   "execution_count": 27,
   "metadata": {},
   "outputs": [],
   "source": [
    "# print(X306.columns)\n",
    "# print(model.feature_importances_)"
   ]
  },
  {
   "cell_type": "code",
   "execution_count": 21,
   "metadata": {},
   "outputs": [
    {
     "data": {
      "text/html": [
       "<div>\n",
       "<style scoped>\n",
       "    .dataframe tbody tr th:only-of-type {\n",
       "        vertical-align: middle;\n",
       "    }\n",
       "\n",
       "    .dataframe tbody tr th {\n",
       "        vertical-align: top;\n",
       "    }\n",
       "\n",
       "    .dataframe thead th {\n",
       "        text-align: right;\n",
       "    }\n",
       "</style>\n",
       "<table border=\"1\" class=\"dataframe\">\n",
       "  <thead>\n",
       "    <tr style=\"text-align: right;\">\n",
       "      <th></th>\n",
       "      <th>id</th>\n",
       "      <th>score</th>\n",
       "    </tr>\n",
       "  </thead>\n",
       "  <tbody>\n",
       "    <tr>\n",
       "      <th>0</th>\n",
       "      <td>1</td>\n",
       "      <td>0.083663</td>\n",
       "    </tr>\n",
       "    <tr>\n",
       "      <th>1</th>\n",
       "      <td>2</td>\n",
       "      <td>0.042871</td>\n",
       "    </tr>\n",
       "    <tr>\n",
       "      <th>2</th>\n",
       "      <td>3</td>\n",
       "      <td>0.026494</td>\n",
       "    </tr>\n",
       "    <tr>\n",
       "      <th>3</th>\n",
       "      <td>4</td>\n",
       "      <td>0.145082</td>\n",
       "    </tr>\n",
       "    <tr>\n",
       "      <th>4</th>\n",
       "      <td>5</td>\n",
       "      <td>0.129319</td>\n",
       "    </tr>\n",
       "  </tbody>\n",
       "</table>\n",
       "</div>"
      ],
      "text/plain": [
       "   id     score\n",
       "0   1  0.083663\n",
       "1   2  0.042871\n",
       "2   3  0.026494\n",
       "3   4  0.145082\n",
       "4   5  0.129319"
      ]
     },
     "execution_count": 21,
     "metadata": {},
     "output_type": "execute_result"
    }
   ],
   "source": [
    "preds = pd.merge(pred_users306, pd.DataFrame(preds306, columns=['score']), left_index=True, right_index=True)\n",
    "preds.head()"
   ]
  },
  {
   "cell_type": "code",
   "execution_count": 22,
   "metadata": {},
   "outputs": [
    {
     "name": "stdout",
     "output_type": "stream",
     "text": [
      "94616 39 0.9995879773915799 0.00041202260842005176\n"
     ]
    }
   ],
   "source": [
    "thresh = 0.5\n",
    "a = preds[preds['score']<thresh].shape[0]\n",
    "b = preds[preds['score']>=thresh].shape[0]\n",
    "print(a,b,a/(a+b),b/(a+b))"
   ]
  },
  {
   "cell_type": "markdown",
   "metadata": {},
   "source": [
    "## 提交"
   ]
  },
  {
   "cell_type": "code",
   "execution_count": 23,
   "metadata": {},
   "outputs": [],
   "source": [
    "# import datetime\n",
    "# datetime.datetime.now().strftime(\"%Y-%m-%d-%H-%M-%S\")"
   ]
  },
  {
   "cell_type": "code",
   "execution_count": 24,
   "metadata": {},
   "outputs": [],
   "source": [
    "import datetime\n",
    "submit_dir = './submit/2/'\n",
    "path_submit = submit_dir + 'submit'+ datetime.datetime.now().strftime(\"%Y-%m-%d-%H-%M-%S\") +'.csv'\n",
    "preds.to_csv(path_submit,columns = ['id', 'score'], index=False)"
   ]
  },
  {
   "cell_type": "code",
   "execution_count": 25,
   "metadata": {},
   "outputs": [],
   "source": [
    "import xlab"
   ]
  },
  {
   "cell_type": "code",
   "execution_count": 26,
   "metadata": {},
   "outputs": [
    {
     "name": "stdout",
     "output_type": "stream",
     "text": [
      "./submit/2/submit2019-05-08-23-49-56.csv\n"
     ]
    }
   ],
   "source": [
    "print(path_submit)"
   ]
  },
  {
   "cell_type": "code",
   "execution_count": 29,
   "metadata": {},
   "outputs": [
    {
     "name": "stdin",
     "output_type": "stream",
     "text": [
      "请输入您提交或查询的对应赛事编号：\n",
      "1:赛题1：企业收支数据预测 \n",
      "2:赛题2：基于收支记录判断借贷意愿 \n",
      "3:赛题3：短文本分析 \n",
      "4:赛题4：基于位置信息的服务推荐分析 \n",
      "5:赛题5：上市公司财务造假识别 \n",
      "（1/2/3/4/5）\n",
      " 2\n"
     ]
    },
    {
     "data": {
      "text/plain": [
       "'您已成功提交题目赛题2：基于收支记录判断借贷意愿的结果，该题目今日提交次数剩余0次，请稍后前往题目对应的提交记录查看结果'"
      ]
     },
     "execution_count": 29,
     "metadata": {},
     "output_type": "execute_result"
    }
   ],
   "source": [
    "# 提交您的结果 注意：请勿上传data/下的文件，\n",
    "xlab.ftcamp.submit(path_submit)"
   ]
  },
  {
   "cell_type": "code",
   "execution_count": 30,
   "metadata": {},
   "outputs": [
    {
     "name": "stdin",
     "output_type": "stream",
     "text": [
      "请输入您提交或查询的对应赛事编号：\n",
      "1:赛题1：企业收支数据预测 \n",
      "2:赛题2：基于收支记录判断借贷意愿 \n",
      "3:赛题3：短文本分析 \n",
      "4:赛题4：基于位置信息的服务推荐分析 \n",
      "5:赛题5：上市公司财务造假识别 \n",
      "（1/2/3/4/5）\n",
      " 2\n"
     ]
    },
    {
     "name": "stdout",
     "output_type": "stream",
     "text": [
      "+---------+---------------------+----------+----------+\n",
      "|   分数  |       提交时间      | 提交次数 |   原因   |\n",
      "+---------+---------------------+----------+----------+\n",
      "| 0.73683 | 2019-05-08 23:50:13 |    25    | 正常执行 |\n",
      "| 0.73583 | 2019-05-08 23:40:57 |    24    | 正常执行 |\n",
      "| 0.73436 | 2019-05-08 23:31:03 |    23    | 正常执行 |\n",
      "| 0.73535 | 2019-05-08 23:08:56 |    22    | 正常执行 |\n",
      "| 0.73622 | 2019-05-08 09:59:35 |    21    | 正常执行 |\n",
      "|  0.735  | 2019-05-07 23:00:35 |    20    | 正常执行 |\n",
      "| 0.72744 | 2019-05-07 22:46:23 |    19    | 正常执行 |\n",
      "| 0.73565 | 2019-05-07 22:37:14 |    18    | 正常执行 |\n",
      "| 0.73446 | 2019-05-07 22:26:57 |    17    | 正常执行 |\n",
      "| 0.73571 | 2019-05-07 13:57:17 |    16    | 正常执行 |\n",
      "| 0.73514 | 2019-05-06 21:59:12 |    15    | 正常执行 |\n",
      "| 0.72701 | 2019-05-06 21:45:25 |    14    | 正常执行 |\n",
      "| 0.72688 | 2019-05-06 20:58:09 |    13    | 正常执行 |\n",
      "| 0.72754 | 2019-05-06 20:36:44 |    12    | 正常执行 |\n",
      "| 0.72756 | 2019-05-06 15:42:54 |    11    | 正常执行 |\n",
      "| 0.72639 | 2019-05-05 23:50:04 |    10    | 正常执行 |\n",
      "| 0.72746 | 2019-05-05 23:38:32 |    9     | 正常执行 |\n",
      "|  0.7226 | 2019-05-05 22:50:12 |    8     | 正常执行 |\n",
      "| 0.71058 | 2019-05-05 14:04:31 |    7     | 正常执行 |\n",
      "| 0.70879 | 2019-05-04 23:57:22 |    6     | 正常执行 |\n",
      "| 0.66755 | 2019-05-04 23:43:41 |    5     | 正常执行 |\n",
      "| 0.66064 | 2019-05-04 21:53:37 |    4     | 正常执行 |\n",
      "| 0.59261 | 2019-05-04 21:07:34 |    3     | 正常执行 |\n",
      "|    0    | 2019-04-24 11:37:26 |    2     | 正常执行 |\n",
      "|    0    | 2019-04-24 11:02:43 |    1     | 正常执行 |\n",
      "+---------+---------------------+----------+----------+\n"
     ]
    }
   ],
   "source": [
    "# 查看历史提交结果\n",
    "xlab.ftcamp.get_submit_hist()"
   ]
  },
  {
   "cell_type": "code",
   "execution_count": null,
   "metadata": {},
   "outputs": [],
   "source": []
  }
 ],
 "metadata": {
  "kernelspec": {
   "display_name": "Python [default]",
   "language": "python",
   "name": "python3"
  },
  "language_info": {
   "codemirror_mode": {
    "name": "ipython",
    "version": 3
   },
   "file_extension": ".py",
   "mimetype": "text/x-python",
   "name": "python",
   "nbconvert_exporter": "python",
   "pygments_lexer": "ipython3",
   "version": "3.6.8"
  }
 },
 "nbformat": 4,
 "nbformat_minor": 2
}
