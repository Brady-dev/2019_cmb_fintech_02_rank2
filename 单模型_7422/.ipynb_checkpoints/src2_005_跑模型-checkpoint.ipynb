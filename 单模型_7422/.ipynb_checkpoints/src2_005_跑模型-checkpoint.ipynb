{
 "cells": [
  {
   "cell_type": "code",
   "execution_count": 1,
   "metadata": {},
   "outputs": [],
   "source": [
    "%reload_ext autoreload\n",
    "%autoreload 2\n",
    "%matplotlib inline"
   ]
  },
  {
   "cell_type": "code",
   "execution_count": 2,
   "metadata": {},
   "outputs": [],
   "source": [
    "import xgboost as xgb\n",
    "from sklearn.model_selection import train_test_split, StratifiedKFold\n",
    "from sklearn.metrics import roc_auc_score\n",
    "import pandas as pd\n",
    "import numpy as np\n",
    "from scipy import sparse\n",
    "import pickle\n",
    "from sklearn.feature_selection import SelectFromModel\n",
    "\n",
    "import gc\n",
    "import random"
   ]
  },
  {
   "cell_type": "code",
   "execution_count": 3,
   "metadata": {},
   "outputs": [],
   "source": [
    "import matplotlib.pyplot as plt"
   ]
  },
  {
   "cell_type": "code",
   "execution_count": 4,
   "metadata": {},
   "outputs": [],
   "source": [
    "features_dir227 = './features_227/'\n",
    "features_dir306 = './features_306/'\n",
    "data_dir = \"./data/FT_Camp_2/\"\n",
    "inter_dir = \"./inter_data/2/\""
   ]
  },
  {
   "cell_type": "code",
   "execution_count": 5,
   "metadata": {},
   "outputs": [],
   "source": [
    "# 训练数据\n",
    "train227 = pd.read_csv(data_dir + 'train.csv')\n",
    "\n",
    "# 预测目标用户\n",
    "pred_users306 = pd.read_csv(data_dir + 'pred_users.csv')"
   ]
  },
  {
   "cell_type": "markdown",
   "metadata": {},
   "source": [
    "## 开始训练"
   ]
  },
  {
   "cell_type": "code",
   "execution_count": 9,
   "metadata": {},
   "outputs": [],
   "source": [
    "X227 = pickle.load(open(inter_dir + 'X227.p', 'rb'))\n",
    "X306 = pickle.load( open(inter_dir + 'X306.p', 'rb'))\n",
    "\n",
    "Y227 = pickle.load(open(inter_dir + 'Y227.p', 'rb'))"
   ]
  },
  {
   "cell_type": "code",
   "execution_count": 10,
   "metadata": {},
   "outputs": [],
   "source": [
    "X306 = X306[list(X227.columns)]"
   ]
  },
  {
   "cell_type": "code",
   "execution_count": 19,
   "metadata": {},
   "outputs": [],
   "source": [
    "X227_csr = sparse.csr_matrix(X227)\n",
    "X306_csr = sparse.csr_matrix(X306)"
   ]
  },
  {
   "cell_type": "code",
   "execution_count": 21,
   "metadata": {},
   "outputs": [
    {
     "name": "stdout",
     "output_type": "stream",
     "text": [
      "(108252, 694)\n",
      "(94655, 694)\n"
     ]
    }
   ],
   "source": [
    "print(X227_csr.shape)\n",
    "print(X306_csr.shape)"
   ]
  },
  {
   "cell_type": "code",
   "execution_count": 41,
   "metadata": {},
   "outputs": [],
   "source": [
    "def pipeline(iteration,random_seed,max_depth,lambd,subsample,colsample_bytree,min_child_weight):\n",
    "    if max_depth==3:\n",
    "        n_estimators = 400\n",
    "    elif max_depth==4:\n",
    "        n_estimators = 300\n",
    "    kf = StratifiedKFold(n_splits=5, shuffle=True, random_state=42)\n",
    "    preds306 = np.zeros((X306_csr.shape[0]))\n",
    "    i = 0\n",
    "    models = [0]*kf.get_n_splits()\n",
    "    roc_scores = []\n",
    "    for train_index, val_index in kf.split(X227_csr, Y227):\n",
    "        X_train, X_val = X227_csr[train_index], X227_csr[val_index]\n",
    "        y_train, y_val = Y227[train_index], Y227[val_index]\n",
    "        eval_set = [(X_train, y_train), (X_val, y_val)]\n",
    "\n",
    "        models[i] = xgb.XGBClassifier(n_estimators=n_estimators,\n",
    "                              max_depth = max_depth,\n",
    "                              reg_lambda = lambd,\n",
    "                              subsample = subsample,\n",
    "                              colsample_bytree = colsample_bytree,\n",
    "                              min_child_weight = min_child_weight,\n",
    "                              n_jobs = 6,\n",
    "                              random_state=random_seed)\n",
    "        models[i].fit(X_train, y_train, eval_metric=['auc', \"error\", \"logloss\"], eval_set=eval_set, verbose=False)\n",
    "\n",
    "        score = models[i].predict_proba(X_val)[:, 1]\n",
    "\n",
    "        roc = roc_auc_score(y_val, score)\n",
    "        roc_scores.append(roc)\n",
    "\n",
    "        print(roc)\n",
    "\n",
    "        preds306 = preds306 + models[i].predict_proba(X306_csr)[:,1]\n",
    "\n",
    "        i+=1\n",
    "\n",
    "    preds306 = preds306 / kf.get_n_splits()\n",
    "    pickle.dump(preds306, open(inter_dir + 'preds306_'+str(iteration)+'.p', 'wb'))\n",
    "    pickle.dump(models, open(inter_dir + 'models_'+str(iteration)+'.p','wb'))\n",
    "    pickle.dump(roc_scores, open(inter_dir + 'roc_scores_'+str(iteration)+'.p','wb'))\n",
    "    print(\"mean_roc_score: {}\".format(np.mean(roc_scores)))\n",
    "    "
   ]
  },
  {
   "cell_type": "code",
   "execution_count": 1,
   "metadata": {},
   "outputs": [
    {
     "ename": "NameError",
     "evalue": "name 'pipeline' is not defined",
     "output_type": "error",
     "traceback": [
      "\u001b[0;31m---------------------------------------------------------------------------\u001b[0m",
      "\u001b[0;31mNameError\u001b[0m                                 Traceback (most recent call last)",
      "\u001b[0;32m<ipython-input-1-fded47ae3970>\u001b[0m in \u001b[0;36m<module>\u001b[0;34m()\u001b[0m\n\u001b[0;32m----> 1\u001b[0;31m \u001b[0mpipeline\u001b[0m\u001b[0;34m(\u001b[0m\u001b[0;36m0\u001b[0m\u001b[0;34m,\u001b[0m \u001b[0;36m19\u001b[0m\u001b[0;34m,\u001b[0m \u001b[0;36m3\u001b[0m\u001b[0;34m,\u001b[0m\u001b[0;36m4\u001b[0m\u001b[0;34m,\u001b[0m\u001b[0;36m0.708\u001b[0m\u001b[0;34m,\u001b[0m\u001b[0;36m0.731\u001b[0m\u001b[0;34m,\u001b[0m\u001b[0;36m1.61\u001b[0m\u001b[0;34m)\u001b[0m\u001b[0;34m\u001b[0m\u001b[0;34m\u001b[0m\u001b[0m\n\u001b[0m",
      "\u001b[0;31mNameError\u001b[0m: name 'pipeline' is not defined"
     ]
    }
   ],
   "source": [
    "pipeline(0, 19, 3, 4, 0.708, 0.731, 1.61)"
   ]
  },
  {
   "cell_type": "code",
   "execution_count": 28,
   "metadata": {},
   "outputs": [
    {
     "data": {
      "text/html": [
       "<div>\n",
       "<style scoped>\n",
       "    .dataframe tbody tr th:only-of-type {\n",
       "        vertical-align: middle;\n",
       "    }\n",
       "\n",
       "    .dataframe tbody tr th {\n",
       "        vertical-align: top;\n",
       "    }\n",
       "\n",
       "    .dataframe thead th {\n",
       "        text-align: right;\n",
       "    }\n",
       "</style>\n",
       "<table border=\"1\" class=\"dataframe\">\n",
       "  <thead>\n",
       "    <tr style=\"text-align: right;\">\n",
       "      <th></th>\n",
       "      <th>id</th>\n",
       "      <th>score</th>\n",
       "    </tr>\n",
       "  </thead>\n",
       "  <tbody>\n",
       "    <tr>\n",
       "      <th>0</th>\n",
       "      <td>1</td>\n",
       "      <td>0.094783</td>\n",
       "    </tr>\n",
       "    <tr>\n",
       "      <th>1</th>\n",
       "      <td>2</td>\n",
       "      <td>0.042131</td>\n",
       "    </tr>\n",
       "    <tr>\n",
       "      <th>2</th>\n",
       "      <td>3</td>\n",
       "      <td>0.028457</td>\n",
       "    </tr>\n",
       "    <tr>\n",
       "      <th>3</th>\n",
       "      <td>4</td>\n",
       "      <td>0.176696</td>\n",
       "    </tr>\n",
       "    <tr>\n",
       "      <th>4</th>\n",
       "      <td>5</td>\n",
       "      <td>0.124011</td>\n",
       "    </tr>\n",
       "  </tbody>\n",
       "</table>\n",
       "</div>"
      ],
      "text/plain": [
       "   id     score\n",
       "0   1  0.094783\n",
       "1   2  0.042131\n",
       "2   3  0.028457\n",
       "3   4  0.176696\n",
       "4   5  0.124011"
      ]
     },
     "execution_count": 28,
     "metadata": {},
     "output_type": "execute_result"
    }
   ],
   "source": [
    "preds = pd.merge(pred_users306, pd.DataFrame(preds306, columns=['score']), left_index=True, right_index=True)\n",
    "preds.head()"
   ]
  },
  {
   "cell_type": "code",
   "execution_count": 29,
   "metadata": {},
   "outputs": [
    {
     "name": "stdout",
     "output_type": "stream",
     "text": [
      "94597 58 0.9993872484285035 0.0006127515714964872\n"
     ]
    }
   ],
   "source": [
    "thresh = 0.5\n",
    "a = preds[preds['score']<thresh].shape[0]\n",
    "b = preds[preds['score']>=thresh].shape[0]\n",
    "print(a,b,a/(a+b),b/(a+b))"
   ]
  },
  {
   "cell_type": "markdown",
   "metadata": {},
   "source": [
    "## 提交"
   ]
  },
  {
   "cell_type": "code",
   "execution_count": 30,
   "metadata": {},
   "outputs": [],
   "source": [
    "# import datetime\n",
    "# datetime.datetime.now().strftime(\"%Y-%m-%d-%H-%M-%S\")"
   ]
  },
  {
   "cell_type": "code",
   "execution_count": 31,
   "metadata": {},
   "outputs": [],
   "source": [
    "import datetime\n",
    "submit_dir = './submit/2/'\n",
    "path_submit = submit_dir + 'submit'+ datetime.datetime.now().strftime(\"%Y-%m-%d-%H-%M-%S\") +'.csv'\n",
    "preds.to_csv(path_submit,columns = ['id', 'score'], index=False)"
   ]
  },
  {
   "cell_type": "code",
   "execution_count": 32,
   "metadata": {},
   "outputs": [],
   "source": [
    "import xlab"
   ]
  },
  {
   "cell_type": "code",
   "execution_count": 33,
   "metadata": {},
   "outputs": [
    {
     "name": "stdout",
     "output_type": "stream",
     "text": [
      "./submit/2/submit2019-05-09-20-59-09.csv\n"
     ]
    }
   ],
   "source": [
    "print(path_submit)"
   ]
  },
  {
   "cell_type": "code",
   "execution_count": 34,
   "metadata": {},
   "outputs": [
    {
     "name": "stdin",
     "output_type": "stream",
     "text": [
      "请输入您提交或查询的对应赛事编号：\n",
      "1:赛题1：企业收支数据预测 \n",
      "2:赛题2：基于收支记录判断借贷意愿 \n",
      "3:赛题3：短文本分析 \n",
      "4:赛题4：基于位置信息的服务推荐分析 \n",
      "5:赛题5：上市公司财务造假识别 \n",
      "（1/2/3/4/5）\n",
      " 2\n"
     ]
    },
    {
     "data": {
      "text/plain": [
       "'您已成功提交题目赛题2：基于收支记录判断借贷意愿的结果，该题目今日提交次数剩余1次，请稍后前往题目对应的提交记录查看结果'"
      ]
     },
     "execution_count": 34,
     "metadata": {},
     "output_type": "execute_result"
    }
   ],
   "source": [
    "# 提交您的结果 注意：请勿上传data/下的文件，\n",
    "xlab.ftcamp.submit(path_submit)"
   ]
  },
  {
   "cell_type": "code",
   "execution_count": 35,
   "metadata": {},
   "outputs": [
    {
     "name": "stdin",
     "output_type": "stream",
     "text": [
      "请输入您提交或查询的对应赛事编号：\n",
      "1:赛题1：企业收支数据预测 \n",
      "2:赛题2：基于收支记录判断借贷意愿 \n",
      "3:赛题3：短文本分析 \n",
      "4:赛题4：基于位置信息的服务推荐分析 \n",
      "5:赛题5：上市公司财务造假识别 \n",
      "（1/2/3/4/5）\n",
      " 2\n"
     ]
    },
    {
     "name": "stdout",
     "output_type": "stream",
     "text": [
      "+---------+---------------------+----------+----------+\n",
      "|   分数  |       提交时间      | 提交次数 |   原因   |\n",
      "+---------+---------------------+----------+----------+\n",
      "| 0.73989 | 2019-05-09 20:59:21 |    29    | 正常执行 |\n",
      "| 0.73808 | 2019-05-09 16:01:48 |    28    | 正常执行 |\n",
      "| 0.44245 | 2019-05-09 15:39:10 |    27    | 正常执行 |\n",
      "| 0.73745 | 2019-05-09 14:06:20 |    26    | 正常执行 |\n",
      "| 0.73683 | 2019-05-08 23:50:13 |    25    | 正常执行 |\n",
      "| 0.73583 | 2019-05-08 23:40:57 |    24    | 正常执行 |\n",
      "| 0.73436 | 2019-05-08 23:31:03 |    23    | 正常执行 |\n",
      "| 0.73535 | 2019-05-08 23:08:56 |    22    | 正常执行 |\n",
      "| 0.73622 | 2019-05-08 09:59:35 |    21    | 正常执行 |\n",
      "|  0.735  | 2019-05-07 23:00:35 |    20    | 正常执行 |\n",
      "| 0.72744 | 2019-05-07 22:46:23 |    19    | 正常执行 |\n",
      "| 0.73565 | 2019-05-07 22:37:14 |    18    | 正常执行 |\n",
      "| 0.73446 | 2019-05-07 22:26:57 |    17    | 正常执行 |\n",
      "| 0.73571 | 2019-05-07 13:57:17 |    16    | 正常执行 |\n",
      "| 0.73514 | 2019-05-06 21:59:12 |    15    | 正常执行 |\n",
      "| 0.72701 | 2019-05-06 21:45:25 |    14    | 正常执行 |\n",
      "| 0.72688 | 2019-05-06 20:58:09 |    13    | 正常执行 |\n",
      "| 0.72754 | 2019-05-06 20:36:44 |    12    | 正常执行 |\n",
      "| 0.72756 | 2019-05-06 15:42:54 |    11    | 正常执行 |\n",
      "| 0.72639 | 2019-05-05 23:50:04 |    10    | 正常执行 |\n",
      "| 0.72746 | 2019-05-05 23:38:32 |    9     | 正常执行 |\n",
      "|  0.7226 | 2019-05-05 22:50:12 |    8     | 正常执行 |\n",
      "| 0.71058 | 2019-05-05 14:04:31 |    7     | 正常执行 |\n",
      "| 0.70879 | 2019-05-04 23:57:22 |    6     | 正常执行 |\n",
      "| 0.66755 | 2019-05-04 23:43:41 |    5     | 正常执行 |\n",
      "| 0.66064 | 2019-05-04 21:53:37 |    4     | 正常执行 |\n",
      "| 0.59261 | 2019-05-04 21:07:34 |    3     | 正常执行 |\n",
      "|    0    | 2019-04-24 11:37:26 |    2     | 正常执行 |\n",
      "|    0    | 2019-04-24 11:02:43 |    1     | 正常执行 |\n",
      "+---------+---------------------+----------+----------+\n"
     ]
    }
   ],
   "source": [
    "# 查看历史提交结果\n",
    "xlab.ftcamp.get_submit_hist()"
   ]
  },
  {
   "cell_type": "code",
   "execution_count": null,
   "metadata": {},
   "outputs": [],
   "source": []
  }
 ],
 "metadata": {
  "kernelspec": {
   "display_name": "Python [default]",
   "language": "python",
   "name": "python3"
  },
  "language_info": {
   "codemirror_mode": {
    "name": "ipython",
    "version": 3
   },
   "file_extension": ".py",
   "mimetype": "text/x-python",
   "name": "python",
   "nbconvert_exporter": "python",
   "pygments_lexer": "ipython3",
   "version": "3.6.8"
  }
 },
 "nbformat": 4,
 "nbformat_minor": 2
}
