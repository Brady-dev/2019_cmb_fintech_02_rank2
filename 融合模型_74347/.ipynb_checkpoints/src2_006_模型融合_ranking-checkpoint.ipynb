{
 "cells": [
  {
   "cell_type": "markdown",
   "metadata": {},
   "source": [
    "# ranking模型融合"
   ]
  },
  {
   "cell_type": "markdown",
   "metadata": {},
   "source": [
    "## 代码说明\n",
    "- src2_001至src2_004：为特征工程代码\n",
    "\n",
    "- src2_005: 为模型代码\n",
    "\n",
    "- src2_006（即本文件）: 为模型融合代码"
   ]
  },
  {
   "cell_type": "code",
   "execution_count": 1,
   "metadata": {},
   "outputs": [],
   "source": [
    "import pickle\n",
    "import pandas as pd\n",
    "import numpy as np"
   ]
  },
  {
   "cell_type": "code",
   "execution_count": 2,
   "metadata": {},
   "outputs": [],
   "source": [
    "data_dir = \"./data/FT_Camp_2/\"\n",
    "inter_dir = \"./inter_data_repo/2/\""
   ]
  },
  {
   "cell_type": "code",
   "execution_count": 8,
   "metadata": {},
   "outputs": [],
   "source": [
    "# 预测目标用户\n",
    "pred_users306 = pd.read_csv(data_dir + 'pred_users.csv')"
   ]
  },
  {
   "cell_type": "code",
   "execution_count": 3,
   "metadata": {},
   "outputs": [
    {
     "name": "stdout",
     "output_type": "stream",
     "text": [
      "[0, 1, 2, 3, 4, 5, 6, 7, 8, 9, 10, 11, 12, 13, 14, 15, 16, 17, 18, 19, 20, 21, 22, 23, 24, 25, 26, 27, 28, 29]\n"
     ]
    }
   ],
   "source": [
    "siter = list(range(30))\n",
    "print(siter)"
   ]
  },
  {
   "cell_type": "code",
   "execution_count": 11,
   "metadata": {},
   "outputs": [
    {
     "name": "stdout",
     "output_type": "stream",
     "text": [
      "   id         0         1         2         3         4         5         6  \\\n",
      "0   1  0.096201  0.094783  0.107610  0.098564  0.092951  0.100522  0.097177   \n",
      "1   2  0.040536  0.042131  0.047800  0.040228  0.037752  0.043628  0.046102   \n",
      "2   3  0.022559  0.028457  0.025274  0.032698  0.025277  0.022657  0.028622   \n",
      "3   4  0.177357  0.176696  0.159337  0.171970  0.168767  0.171735  0.181066   \n",
      "4   5  0.123636  0.124011  0.127051  0.124811  0.121239  0.120240  0.122980   \n",
      "\n",
      "          7         8  ...        20        21        22        23        24  \\\n",
      "0  0.118526  0.088573  ...  0.098094  0.084312  0.103677  0.091574  0.091808   \n",
      "1  0.040421  0.052717  ...  0.045588  0.040754  0.049707  0.046950  0.049195   \n",
      "2  0.019991  0.028144  ...  0.023478  0.029787  0.020062  0.029021  0.029891   \n",
      "3  0.160780  0.181180  ...  0.175233  0.164386  0.157094  0.176022  0.191746   \n",
      "4  0.129012  0.123555  ...  0.127176  0.116940  0.122812  0.124867  0.130060   \n",
      "\n",
      "         25        26        27        28        29  \n",
      "0  0.101945  0.096156  0.109467  0.092340  0.092007  \n",
      "1  0.045649  0.045959  0.040496  0.041365  0.039555  \n",
      "2  0.023104  0.026922  0.019474  0.024264  0.026789  \n",
      "3  0.155692  0.170204  0.165703  0.165336  0.164354  \n",
      "4  0.119232  0.116323  0.118192  0.117992  0.125646  \n",
      "\n",
      "[5 rows x 31 columns]\n"
     ]
    }
   ],
   "source": [
    "n = 30\n",
    "tmps = pred_users306.copy()\n",
    "for i in range(n):\n",
    "    if i in siter:\n",
    "        tmp = pickle.load(open(inter_dir + 'preds306_'+str(i)+'.p', 'rb'))\n",
    "        tmps = pd.merge(tmps, pd.DataFrame(tmp, columns=[str(i)]), left_index=True, right_index=True)\n",
    "# tmps['score'] = tmps[[str(i) for i in siter]].mean(1)\n",
    "print(tmps.head())"
   ]
  },
  {
   "cell_type": "code",
   "execution_count": 77,
   "metadata": {},
   "outputs": [],
   "source": [
    "tmps['0_rank'] = tmps['0'].rank(method='min')"
   ]
  },
  {
   "cell_type": "code",
   "execution_count": 79,
   "metadata": {},
   "outputs": [
    {
     "data": {
      "text/html": [
       "<div>\n",
       "<style scoped>\n",
       "    .dataframe tbody tr th:only-of-type {\n",
       "        vertical-align: middle;\n",
       "    }\n",
       "\n",
       "    .dataframe tbody tr th {\n",
       "        vertical-align: top;\n",
       "    }\n",
       "\n",
       "    .dataframe thead th {\n",
       "        text-align: right;\n",
       "    }\n",
       "</style>\n",
       "<table border=\"1\" class=\"dataframe\">\n",
       "  <thead>\n",
       "    <tr style=\"text-align: right;\">\n",
       "      <th></th>\n",
       "      <th>id</th>\n",
       "      <th>0</th>\n",
       "      <th>1</th>\n",
       "      <th>2</th>\n",
       "      <th>3</th>\n",
       "      <th>4</th>\n",
       "      <th>5</th>\n",
       "      <th>6</th>\n",
       "      <th>7</th>\n",
       "      <th>8</th>\n",
       "      <th>...</th>\n",
       "      <th>20_rank</th>\n",
       "      <th>21_rank</th>\n",
       "      <th>22_rank</th>\n",
       "      <th>23_rank</th>\n",
       "      <th>24_rank</th>\n",
       "      <th>25_rank</th>\n",
       "      <th>26_rank</th>\n",
       "      <th>27_rank</th>\n",
       "      <th>28_rank</th>\n",
       "      <th>29_rank</th>\n",
       "    </tr>\n",
       "  </thead>\n",
       "  <tbody>\n",
       "    <tr>\n",
       "      <th>0</th>\n",
       "      <td>1</td>\n",
       "      <td>0.096201</td>\n",
       "      <td>0.094783</td>\n",
       "      <td>0.107610</td>\n",
       "      <td>0.098564</td>\n",
       "      <td>0.092951</td>\n",
       "      <td>0.100522</td>\n",
       "      <td>0.097177</td>\n",
       "      <td>0.118526</td>\n",
       "      <td>0.088573</td>\n",
       "      <td>...</td>\n",
       "      <td>55244.0</td>\n",
       "      <td>46054.0</td>\n",
       "      <td>58218.0</td>\n",
       "      <td>50770.0</td>\n",
       "      <td>51353.0</td>\n",
       "      <td>56638.0</td>\n",
       "      <td>54059.0</td>\n",
       "      <td>60682.0</td>\n",
       "      <td>51786.0</td>\n",
       "      <td>50994.0</td>\n",
       "    </tr>\n",
       "    <tr>\n",
       "      <th>1</th>\n",
       "      <td>2</td>\n",
       "      <td>0.040536</td>\n",
       "      <td>0.042131</td>\n",
       "      <td>0.047800</td>\n",
       "      <td>0.040228</td>\n",
       "      <td>0.037752</td>\n",
       "      <td>0.043628</td>\n",
       "      <td>0.046102</td>\n",
       "      <td>0.040421</td>\n",
       "      <td>0.052717</td>\n",
       "      <td>...</td>\n",
       "      <td>16838.0</td>\n",
       "      <td>12514.0</td>\n",
       "      <td>19963.0</td>\n",
       "      <td>17327.0</td>\n",
       "      <td>19683.0</td>\n",
       "      <td>16010.0</td>\n",
       "      <td>16990.0</td>\n",
       "      <td>12351.0</td>\n",
       "      <td>13692.0</td>\n",
       "      <td>11782.0</td>\n",
       "    </tr>\n",
       "    <tr>\n",
       "      <th>2</th>\n",
       "      <td>3</td>\n",
       "      <td>0.022559</td>\n",
       "      <td>0.028457</td>\n",
       "      <td>0.025274</td>\n",
       "      <td>0.032698</td>\n",
       "      <td>0.025277</td>\n",
       "      <td>0.022657</td>\n",
       "      <td>0.028622</td>\n",
       "      <td>0.019991</td>\n",
       "      <td>0.028144</td>\n",
       "      <td>...</td>\n",
       "      <td>3254.0</td>\n",
       "      <td>5632.0</td>\n",
       "      <td>2123.0</td>\n",
       "      <td>5391.0</td>\n",
       "      <td>6193.0</td>\n",
       "      <td>2898.0</td>\n",
       "      <td>4613.0</td>\n",
       "      <td>1884.0</td>\n",
       "      <td>3413.0</td>\n",
       "      <td>4281.0</td>\n",
       "    </tr>\n",
       "    <tr>\n",
       "      <th>3</th>\n",
       "      <td>4</td>\n",
       "      <td>0.177357</td>\n",
       "      <td>0.176696</td>\n",
       "      <td>0.159337</td>\n",
       "      <td>0.171970</td>\n",
       "      <td>0.168767</td>\n",
       "      <td>0.171735</td>\n",
       "      <td>0.181066</td>\n",
       "      <td>0.160780</td>\n",
       "      <td>0.181180</td>\n",
       "      <td>...</td>\n",
       "      <td>82577.0</td>\n",
       "      <td>80129.0</td>\n",
       "      <td>78634.0</td>\n",
       "      <td>82556.0</td>\n",
       "      <td>85172.0</td>\n",
       "      <td>78056.0</td>\n",
       "      <td>81452.0</td>\n",
       "      <td>80658.0</td>\n",
       "      <td>80442.0</td>\n",
       "      <td>80087.0</td>\n",
       "    </tr>\n",
       "    <tr>\n",
       "      <th>4</th>\n",
       "      <td>5</td>\n",
       "      <td>0.123636</td>\n",
       "      <td>0.124011</td>\n",
       "      <td>0.127051</td>\n",
       "      <td>0.124811</td>\n",
       "      <td>0.121239</td>\n",
       "      <td>0.120240</td>\n",
       "      <td>0.122980</td>\n",
       "      <td>0.129012</td>\n",
       "      <td>0.123555</td>\n",
       "      <td>...</td>\n",
       "      <td>68823.0</td>\n",
       "      <td>64371.0</td>\n",
       "      <td>67080.0</td>\n",
       "      <td>67736.0</td>\n",
       "      <td>69849.0</td>\n",
       "      <td>65322.0</td>\n",
       "      <td>64440.0</td>\n",
       "      <td>64829.0</td>\n",
       "      <td>65192.0</td>\n",
       "      <td>67993.0</td>\n",
       "    </tr>\n",
       "  </tbody>\n",
       "</table>\n",
       "<p>5 rows × 61 columns</p>\n",
       "</div>"
      ],
      "text/plain": [
       "   id         0         1         2         3         4         5         6  \\\n",
       "0   1  0.096201  0.094783  0.107610  0.098564  0.092951  0.100522  0.097177   \n",
       "1   2  0.040536  0.042131  0.047800  0.040228  0.037752  0.043628  0.046102   \n",
       "2   3  0.022559  0.028457  0.025274  0.032698  0.025277  0.022657  0.028622   \n",
       "3   4  0.177357  0.176696  0.159337  0.171970  0.168767  0.171735  0.181066   \n",
       "4   5  0.123636  0.124011  0.127051  0.124811  0.121239  0.120240  0.122980   \n",
       "\n",
       "          7         8  ...  20_rank  21_rank  22_rank  23_rank  24_rank  \\\n",
       "0  0.118526  0.088573  ...  55244.0  46054.0  58218.0  50770.0  51353.0   \n",
       "1  0.040421  0.052717  ...  16838.0  12514.0  19963.0  17327.0  19683.0   \n",
       "2  0.019991  0.028144  ...   3254.0   5632.0   2123.0   5391.0   6193.0   \n",
       "3  0.160780  0.181180  ...  82577.0  80129.0  78634.0  82556.0  85172.0   \n",
       "4  0.129012  0.123555  ...  68823.0  64371.0  67080.0  67736.0  69849.0   \n",
       "\n",
       "   25_rank  26_rank  27_rank  28_rank  29_rank  \n",
       "0  56638.0  54059.0  60682.0  51786.0  50994.0  \n",
       "1  16010.0  16990.0  12351.0  13692.0  11782.0  \n",
       "2   2898.0   4613.0   1884.0   3413.0   4281.0  \n",
       "3  78056.0  81452.0  80658.0  80442.0  80087.0  \n",
       "4  65322.0  64440.0  64829.0  65192.0  67993.0  \n",
       "\n",
       "[5 rows x 61 columns]"
      ]
     },
     "execution_count": 79,
     "metadata": {},
     "output_type": "execute_result"
    }
   ],
   "source": [
    "for i in siter:\n",
    "    tmps[str(i)+'_rank'] = tmps[str(i)].rank(method='min')\n",
    "tmps.head()"
   ]
  },
  {
   "cell_type": "code",
   "execution_count": 82,
   "metadata": {},
   "outputs": [],
   "source": [
    "tmps['score_rank'] = tmps[[str(i)+'_rank' for i in siter]].sum(1)"
   ]
  },
  {
   "cell_type": "code",
   "execution_count": 83,
   "metadata": {},
   "outputs": [
    {
     "data": {
      "text/plain": [
       "0        1656042.0\n",
       "1         474787.0\n",
       "2         123784.0\n",
       "3        2439939.0\n",
       "4        2010994.0\n",
       "5         626911.0\n",
       "6        1227116.0\n",
       "7        2787638.0\n",
       "8         175989.0\n",
       "9        2608405.0\n",
       "10       2610312.0\n",
       "11       1186642.0\n",
       "12       1449727.0\n",
       "13        680048.0\n",
       "14       1568081.0\n",
       "15       2664681.0\n",
       "16       1099891.0\n",
       "17       2015835.0\n",
       "18       1816436.0\n",
       "19       1940521.0\n",
       "20       1603406.0\n",
       "21       1663536.0\n",
       "22       1183074.0\n",
       "23       2320820.0\n",
       "24       2268097.0\n",
       "25       2215044.0\n",
       "26       1583686.0\n",
       "27        439506.0\n",
       "28       1114310.0\n",
       "29       1697930.0\n",
       "           ...    \n",
       "94625    1910997.0\n",
       "94626    1088245.0\n",
       "94627    1189203.0\n",
       "94628     949707.0\n",
       "94629    1102912.0\n",
       "94630    2064677.0\n",
       "94631    2385326.0\n",
       "94632    1105950.0\n",
       "94633    1358864.0\n",
       "94634    1600225.0\n",
       "94635    1679078.0\n",
       "94636    1302323.0\n",
       "94637    2822565.0\n",
       "94638    2705438.0\n",
       "94639     641255.0\n",
       "94640    2455172.0\n",
       "94641    2575639.0\n",
       "94642    2300704.0\n",
       "94643    1571571.0\n",
       "94644    1260597.0\n",
       "94645     507437.0\n",
       "94646    2382476.0\n",
       "94647    2518631.0\n",
       "94648      55020.0\n",
       "94649    2666251.0\n",
       "94650    2526216.0\n",
       "94651     277549.0\n",
       "94652    2141984.0\n",
       "94653    2212690.0\n",
       "94654     880497.0\n",
       "Name: score_rank, Length: 94655, dtype: float64"
      ]
     },
     "execution_count": 83,
     "metadata": {},
     "output_type": "execute_result"
    }
   ],
   "source": [
    "# tmps['score_rank'] "
   ]
  },
  {
   "cell_type": "code",
   "execution_count": 87,
   "metadata": {},
   "outputs": [],
   "source": [
    "max_min_scaler = lambda x : (x-np.min(x))/(np.max(x)-np.min(x))\n",
    "tmps['score'] = tmps[['score_rank']].apply(max_min_scaler)"
   ]
  },
  {
   "cell_type": "code",
   "execution_count": 88,
   "metadata": {},
   "outputs": [
    {
     "data": {
      "text/html": [
       "<div>\n",
       "<style scoped>\n",
       "    .dataframe tbody tr th:only-of-type {\n",
       "        vertical-align: middle;\n",
       "    }\n",
       "\n",
       "    .dataframe tbody tr th {\n",
       "        vertical-align: top;\n",
       "    }\n",
       "\n",
       "    .dataframe thead th {\n",
       "        text-align: right;\n",
       "    }\n",
       "</style>\n",
       "<table border=\"1\" class=\"dataframe\">\n",
       "  <thead>\n",
       "    <tr style=\"text-align: right;\">\n",
       "      <th></th>\n",
       "      <th>id</th>\n",
       "      <th>score</th>\n",
       "    </tr>\n",
       "  </thead>\n",
       "  <tbody>\n",
       "    <tr>\n",
       "      <th>0</th>\n",
       "      <td>1</td>\n",
       "      <td>0.583204</td>\n",
       "    </tr>\n",
       "    <tr>\n",
       "      <th>1</th>\n",
       "      <td>2</td>\n",
       "      <td>0.167193</td>\n",
       "    </tr>\n",
       "    <tr>\n",
       "      <th>2</th>\n",
       "      <td>3</td>\n",
       "      <td>0.043578</td>\n",
       "    </tr>\n",
       "    <tr>\n",
       "      <th>3</th>\n",
       "      <td>4</td>\n",
       "      <td>0.859275</td>\n",
       "    </tr>\n",
       "    <tr>\n",
       "      <th>4</th>\n",
       "      <td>5</td>\n",
       "      <td>0.708210</td>\n",
       "    </tr>\n",
       "  </tbody>\n",
       "</table>\n",
       "</div>"
      ],
      "text/plain": [
       "   id     score\n",
       "0   1  0.583204\n",
       "1   2  0.167193\n",
       "2   3  0.043578\n",
       "3   4  0.859275\n",
       "4   5  0.708210"
      ]
     },
     "execution_count": 88,
     "metadata": {},
     "output_type": "execute_result"
    }
   ],
   "source": [
    "preds = tmps[['id', 'score']]\n",
    "preds.head()"
   ]
  },
  {
   "cell_type": "code",
   "execution_count": 89,
   "metadata": {},
   "outputs": [
    {
     "name": "stdout",
     "output_type": "stream",
     "text": [
      "47382 47273 0.5005757751835613 0.49942422481643867\n"
     ]
    }
   ],
   "source": [
    "thresh = 0.5\n",
    "a = preds[preds['score']<thresh].shape[0]\n",
    "b = preds[preds['score']>=thresh].shape[0]\n",
    "print(a,b,a/(a+b),b/(a+b))"
   ]
  },
  {
   "cell_type": "markdown",
   "metadata": {},
   "source": [
    "## 提交"
   ]
  },
  {
   "cell_type": "code",
   "execution_count": 90,
   "metadata": {},
   "outputs": [],
   "source": [
    "import datetime\n",
    "submit_dir = './submit/2/'\n",
    "path_submit = submit_dir + 'submit'+ datetime.datetime.now().strftime(\"%Y-%m-%d-%H-%M-%S\") +'.csv'\n",
    "preds.to_csv(path_submit,columns = ['id', 'score'], index=False)"
   ]
  },
  {
   "cell_type": "code",
   "execution_count": 91,
   "metadata": {},
   "outputs": [],
   "source": [
    "import xlab"
   ]
  },
  {
   "cell_type": "code",
   "execution_count": 92,
   "metadata": {},
   "outputs": [
    {
     "name": "stdout",
     "output_type": "stream",
     "text": [
      "./submit/2/submit2019-05-10-17-39-33.csv\n"
     ]
    }
   ],
   "source": [
    "print(path_submit)"
   ]
  },
  {
   "cell_type": "code",
   "execution_count": 95,
   "metadata": {},
   "outputs": [
    {
     "name": "stdin",
     "output_type": "stream",
     "text": [
      "请输入您提交或查询的对应赛事编号：\n",
      "1:赛题1：企业收支数据预测 \n",
      "2:赛题2：基于收支记录判断借贷意愿 \n",
      "3:赛题3：短文本分析 \n",
      "4:赛题4：基于位置信息的服务推荐分析 \n",
      "5:赛题5：上市公司财务造假识别 \n",
      "（1/2/3/4/5）\n",
      " 2\n"
     ]
    },
    {
     "data": {
      "text/plain": [
       "'该赛事今日提交次数已达到2次，请明日再提交'"
      ]
     },
     "execution_count": 95,
     "metadata": {},
     "output_type": "execute_result"
    }
   ],
   "source": [
    "# 提交您的结果 注意：请勿上传data/下的文件，\n",
    "xlab.ftcamp.submit(path_submit)"
   ]
  },
  {
   "cell_type": "code",
   "execution_count": 94,
   "metadata": {},
   "outputs": [
    {
     "name": "stdin",
     "output_type": "stream",
     "text": [
      "请输入您提交或查询的对应赛事编号：\n",
      "1:赛题1：企业收支数据预测 \n",
      "2:赛题2：基于收支记录判断借贷意愿 \n",
      "3:赛题3：短文本分析 \n",
      "4:赛题4：基于位置信息的服务推荐分析 \n",
      "5:赛题5：上市公司财务造假识别 \n",
      "（1/2/3/4/5）\n",
      " 2\n"
     ]
    },
    {
     "name": "stdout",
     "output_type": "stream",
     "text": [
      "+---------+---------------------+----------+----------+\n",
      "|   分数  |       提交时间      | 提交次数 |   原因   |\n",
      "+---------+---------------------+----------+----------+\n",
      "| 0.74062 | 2019-05-10 17:41:35 |    32    | 正常执行 |\n",
      "| 0.74047 | 2019-05-10 14:29:55 |    31    | 正常执行 |\n",
      "| 0.74056 | 2019-05-09 22:51:48 |    30    | 正常执行 |\n",
      "| 0.73989 | 2019-05-09 20:59:21 |    29    | 正常执行 |\n",
      "| 0.73808 | 2019-05-09 16:01:48 |    28    | 正常执行 |\n",
      "| 0.44245 | 2019-05-09 15:39:10 |    27    | 正常执行 |\n",
      "| 0.73745 | 2019-05-09 14:06:20 |    26    | 正常执行 |\n",
      "| 0.73683 | 2019-05-08 23:50:13 |    25    | 正常执行 |\n",
      "| 0.73583 | 2019-05-08 23:40:57 |    24    | 正常执行 |\n",
      "| 0.73436 | 2019-05-08 23:31:03 |    23    | 正常执行 |\n",
      "| 0.73535 | 2019-05-08 23:08:56 |    22    | 正常执行 |\n",
      "| 0.73622 | 2019-05-08 09:59:35 |    21    | 正常执行 |\n",
      "|  0.735  | 2019-05-07 23:00:35 |    20    | 正常执行 |\n",
      "| 0.72744 | 2019-05-07 22:46:23 |    19    | 正常执行 |\n",
      "| 0.73565 | 2019-05-07 22:37:14 |    18    | 正常执行 |\n",
      "| 0.73446 | 2019-05-07 22:26:57 |    17    | 正常执行 |\n",
      "| 0.73571 | 2019-05-07 13:57:17 |    16    | 正常执行 |\n",
      "| 0.73514 | 2019-05-06 21:59:12 |    15    | 正常执行 |\n",
      "| 0.72701 | 2019-05-06 21:45:25 |    14    | 正常执行 |\n",
      "| 0.72688 | 2019-05-06 20:58:09 |    13    | 正常执行 |\n",
      "| 0.72754 | 2019-05-06 20:36:44 |    12    | 正常执行 |\n",
      "| 0.72756 | 2019-05-06 15:42:54 |    11    | 正常执行 |\n",
      "| 0.72639 | 2019-05-05 23:50:04 |    10    | 正常执行 |\n",
      "| 0.72746 | 2019-05-05 23:38:32 |    9     | 正常执行 |\n",
      "|  0.7226 | 2019-05-05 22:50:12 |    8     | 正常执行 |\n",
      "| 0.71058 | 2019-05-05 14:04:31 |    7     | 正常执行 |\n",
      "| 0.70879 | 2019-05-04 23:57:22 |    6     | 正常执行 |\n",
      "| 0.66755 | 2019-05-04 23:43:41 |    5     | 正常执行 |\n",
      "| 0.66064 | 2019-05-04 21:53:37 |    4     | 正常执行 |\n",
      "| 0.59261 | 2019-05-04 21:07:34 |    3     | 正常执行 |\n",
      "|    0    | 2019-04-24 11:37:26 |    2     | 正常执行 |\n",
      "|    0    | 2019-04-24 11:02:43 |    1     | 正常执行 |\n",
      "+---------+---------------------+----------+----------+\n"
     ]
    }
   ],
   "source": [
    "# 查看历史提交结果\n",
    "xlab.ftcamp.get_submit_hist()"
   ]
  },
  {
   "cell_type": "code",
   "execution_count": null,
   "metadata": {},
   "outputs": [],
   "source": []
  },
  {
   "cell_type": "code",
   "execution_count": null,
   "metadata": {},
   "outputs": [],
   "source": []
  }
 ],
 "metadata": {
  "kernelspec": {
   "display_name": "Python [default]",
   "language": "python",
   "name": "python3"
  },
  "language_info": {
   "codemirror_mode": {
    "name": "ipython",
    "version": 3
   },
   "file_extension": ".py",
   "mimetype": "text/x-python",
   "name": "python",
   "nbconvert_exporter": "python",
   "pygments_lexer": "ipython3",
   "version": "3.6.8"
  }
 },
 "nbformat": 4,
 "nbformat_minor": 2
}
