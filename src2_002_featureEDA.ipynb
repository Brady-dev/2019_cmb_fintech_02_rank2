{
 "cells": [
  {
   "cell_type": "code",
   "execution_count": 7,
   "metadata": {},
   "outputs": [],
   "source": [
    "%reload_ext autoreload\n",
    "%autoreload 2\n",
    "%matplotlib inline"
   ]
  },
  {
   "cell_type": "code",
   "execution_count": 8,
   "metadata": {},
   "outputs": [],
   "source": [
    "import xgboost as xgb\n",
    "from sklearn.model_selection import train_test_split, StratifiedKFold\n",
    "from sklearn.metrics import roc_auc_score\n",
    "import pandas as pd\n",
    "import numpy as np\n",
    "from scipy import sparse\n",
    "import pickle\n",
    "import matplotlib.pyplot as plt"
   ]
  },
  {
   "cell_type": "code",
   "execution_count": 9,
   "metadata": {},
   "outputs": [],
   "source": [
    "import matplotlib as mpl\n",
    "mpl.rcParams['font.sans-serif'] = ['SimHei']\n",
    "mpl.rcParams['font.serif'] = ['SimHei']\n",
    "import seaborn as sns\n",
    "%matplotlib inline\n",
    "p = sns.color_palette()\n",
    "sns.set_style(\"darkgrid\",{\"font.sans-serif\":['simhei', 'Arial']})"
   ]
  },
  {
   "cell_type": "code",
   "execution_count": 10,
   "metadata": {},
   "outputs": [],
   "source": [
    "features_dir227 = './features_227/'\n",
    "features_dir306 = './features_306/'\n",
    "data_dir = \"./data/FT_Camp_2/\"\n",
    "inter_dir = \"./inter_data/2/\""
   ]
  },
  {
   "cell_type": "code",
   "execution_count": 11,
   "metadata": {},
   "outputs": [],
   "source": [
    "# 训练数据\n",
    "train227 = pd.read_csv(data_dir + 'train.csv')\n",
    "\n",
    "# 预测目标用户\n",
    "pred_users306 = pd.read_csv(data_dir + 'pred_users.csv')"
   ]
  },
  {
   "cell_type": "code",
   "execution_count": 12,
   "metadata": {},
   "outputs": [
    {
     "data": {
      "text/html": [
       "<div>\n",
       "<style scoped>\n",
       "    .dataframe tbody tr th:only-of-type {\n",
       "        vertical-align: middle;\n",
       "    }\n",
       "\n",
       "    .dataframe tbody tr th {\n",
       "        vertical-align: top;\n",
       "    }\n",
       "\n",
       "    .dataframe thead th {\n",
       "        text-align: right;\n",
       "    }\n",
       "</style>\n",
       "<table border=\"1\" class=\"dataframe\">\n",
       "  <thead>\n",
       "    <tr style=\"text-align: right;\">\n",
       "      <th></th>\n",
       "      <th>id</th>\n",
       "      <th>gender</th>\n",
       "      <th>age</th>\n",
       "      <th>aum227</th>\n",
       "      <th>收入总和</th>\n",
       "      <th>支出总和</th>\n",
       "      <th>收支总和</th>\n",
       "      <th>收支记录次数</th>\n",
       "      <th>收入最大值</th>\n",
       "      <th>支出最大值</th>\n",
       "    </tr>\n",
       "  </thead>\n",
       "  <tbody>\n",
       "    <tr>\n",
       "      <th>0</th>\n",
       "      <td>1</td>\n",
       "      <td>0</td>\n",
       "      <td>52.0</td>\n",
       "      <td>219481.95</td>\n",
       "      <td>120873.00</td>\n",
       "      <td>-72587.00</td>\n",
       "      <td>48286.00</td>\n",
       "      <td>13.0</td>\n",
       "      <td>56388.00</td>\n",
       "      <td>-50000.0</td>\n",
       "    </tr>\n",
       "    <tr>\n",
       "      <th>1</th>\n",
       "      <td>2</td>\n",
       "      <td>0</td>\n",
       "      <td>32.0</td>\n",
       "      <td>236183.79</td>\n",
       "      <td>348701.71</td>\n",
       "      <td>-340247.40</td>\n",
       "      <td>8454.31</td>\n",
       "      <td>31.0</td>\n",
       "      <td>96000.00</td>\n",
       "      <td>-316000.0</td>\n",
       "    </tr>\n",
       "    <tr>\n",
       "      <th>2</th>\n",
       "      <td>3</td>\n",
       "      <td>0</td>\n",
       "      <td>22.0</td>\n",
       "      <td>0.06</td>\n",
       "      <td>6920.67</td>\n",
       "      <td>-12561.21</td>\n",
       "      <td>-5640.54</td>\n",
       "      <td>167.0</td>\n",
       "      <td>6841.06</td>\n",
       "      <td>-3000.0</td>\n",
       "    </tr>\n",
       "    <tr>\n",
       "      <th>3</th>\n",
       "      <td>4</td>\n",
       "      <td>1</td>\n",
       "      <td>21.0</td>\n",
       "      <td>420.26</td>\n",
       "      <td>2110.00</td>\n",
       "      <td>-2093.93</td>\n",
       "      <td>16.07</td>\n",
       "      <td>50.0</td>\n",
       "      <td>520.00</td>\n",
       "      <td>-520.0</td>\n",
       "    </tr>\n",
       "    <tr>\n",
       "      <th>4</th>\n",
       "      <td>6</td>\n",
       "      <td>1</td>\n",
       "      <td>34.0</td>\n",
       "      <td>231.42</td>\n",
       "      <td>829116.97</td>\n",
       "      <td>-829294.89</td>\n",
       "      <td>-177.92</td>\n",
       "      <td>81.0</td>\n",
       "      <td>300000.00</td>\n",
       "      <td>-300000.0</td>\n",
       "    </tr>\n",
       "  </tbody>\n",
       "</table>\n",
       "</div>"
      ],
      "text/plain": [
       "   id  gender   age     aum227       收入总和       支出总和      收支总和  收支记录次数  \\\n",
       "0   1       0  52.0  219481.95  120873.00  -72587.00  48286.00    13.0   \n",
       "1   2       0  32.0  236183.79  348701.71 -340247.40   8454.31    31.0   \n",
       "2   3       0  22.0       0.06    6920.67  -12561.21  -5640.54   167.0   \n",
       "3   4       1  21.0     420.26    2110.00   -2093.93     16.07    50.0   \n",
       "4   6       1  34.0     231.42  829116.97 -829294.89   -177.92    81.0   \n",
       "\n",
       "       收入最大值     支出最大值  \n",
       "0   56388.00  -50000.0  \n",
       "1   96000.00 -316000.0  \n",
       "2    6841.06   -3000.0  \n",
       "3     520.00    -520.0  \n",
       "4  300000.00 -300000.0  "
      ]
     },
     "execution_count": 12,
     "metadata": {},
     "output_type": "execute_result"
    }
   ],
   "source": [
    "# 导入数据\n",
    "features227 = train227[['id']]\n",
    "\n",
    "用户基础属性227 = pd.read_csv(features_dir227 + \"用户基础属性.csv\")\n",
    "features227 = pd.merge(features227, 用户基础属性227, on='id', how='left')\n",
    "\n",
    "收入总和227 = pd.read_csv(features_dir227 + \"收入总和.csv\")\n",
    "features227 = pd.merge(features227, 收入总和227, on='id', how='left')\n",
    "\n",
    "支出总和227 = pd.read_csv(features_dir227 + \"支出总和.csv\")\n",
    "features227 = pd.merge(features227, 支出总和227, on='id', how='left')\n",
    "\n",
    "收支总和227 = pd.read_csv(features_dir227 + \"收支总和.csv\")\n",
    "features227 = pd.merge(features227, 收支总和227, on='id', how='left')\n",
    "\n",
    "收支记录次数227 = pd.read_csv(features_dir227 + \"收支记录次数.csv\")\n",
    "features227 = pd.merge(features227, 收支记录次数227, on='id', how='left')\n",
    "\n",
    "收入最大值227 = pd.read_csv(features_dir227 + \"收入最大值.csv\")\n",
    "features227 = pd.merge(features227, 收入最大值227, on='id', how='left')\n",
    "\n",
    "支出最大值227 = pd.read_csv(features_dir227 + \"支出最大值.csv\")\n",
    "features227 = pd.merge(features227, 支出最大值227, on='id', how='left')\n",
    "\n",
    "# 各类别收支记录次数227 = pd.read_csv(features_dir227 + \"各类别收支记录次数.csv\")\n",
    "# features227 = pd.merge(features227, 各类别收支记录次数227, on='id', how='left')\n",
    "\n",
    "# 各类别收支金额227 = pd.read_csv(features_dir227 + \"各类别收支金额.csv\")\n",
    "# features227 = pd.merge(features227, 各类别收支金额227, on='id', how='left')\n",
    "\n",
    "# 各原始类别收支记录次数227 = pd.read_csv(features_dir227 + \"各原始类别收支记录次数.csv\")\n",
    "# features227 = pd.merge(features227, 各原始类别收支记录次数227, on='id', how='left')\n",
    "\n",
    "# 各原始类别收支金额227 = pd.read_csv(features_dir227 + \"各原始类别收支金额.csv\")\n",
    "# features227 = pd.merge(features227, 各原始类别收支金额227, on='id', how='left')\n",
    "\n",
    "# 细粒度收支总和_10227 = pd.read_csv(features_dir227 + \"细粒度收支总和_10.csv\")\n",
    "# features227 = pd.merge(features227, 细粒度收支总和_10227, on='id', how='left')\n",
    "\n",
    "# 对应时间收支总和227 = pd.read_csv(features_dir227 + \"对应时间收支总和.csv\")\n",
    "# features227 = pd.merge(features227, 对应时间收支总和227, on='id', how='left')\n",
    "\n",
    "# 对应时间支出总和227 = pd.read_csv(features_dir227 + \"对应时间支出总和.csv\")\n",
    "# features227 = pd.merge(features227, 对应时间支出总和227, on='id', how='left')\n",
    "\n",
    "# 对应时间收入总和227 = pd.read_csv(features_dir227 + \"对应时间收入总和.csv\")\n",
    "# features227 = pd.merge(features227, 对应时间收入总和227, on='id', how='left')\n",
    "\n",
    "# 收入均值227 = pd.read_csv(features_dir227 + \"收入均值.csv\")\n",
    "# features227 = pd.merge(features227, 收入均值227, on='id', how='left')\n",
    "\n",
    "# 支出均值227 = pd.read_csv(features_dir227 + \"支出均值.csv\")\n",
    "# features227 = pd.merge(features227, 支出均值227, on='id', how='left')\n",
    "\n",
    "# 收支均值227 = pd.read_csv(features_dir227 + \"收支均值.csv\")\n",
    "# features227 = pd.merge(features227, 收支均值227, on='id', how='left')\n",
    "\n",
    "features227.head()"
   ]
  },
  {
   "cell_type": "code",
   "execution_count": 13,
   "metadata": {},
   "outputs": [
    {
     "data": {
      "text/html": [
       "<div>\n",
       "<style scoped>\n",
       "    .dataframe tbody tr th:only-of-type {\n",
       "        vertical-align: middle;\n",
       "    }\n",
       "\n",
       "    .dataframe tbody tr th {\n",
       "        vertical-align: top;\n",
       "    }\n",
       "\n",
       "    .dataframe thead th {\n",
       "        text-align: right;\n",
       "    }\n",
       "</style>\n",
       "<table border=\"1\" class=\"dataframe\">\n",
       "  <thead>\n",
       "    <tr style=\"text-align: right;\">\n",
       "      <th></th>\n",
       "      <th>id</th>\n",
       "      <th>gender</th>\n",
       "      <th>age</th>\n",
       "      <th>aum227</th>\n",
       "      <th>收入总和</th>\n",
       "      <th>支出总和</th>\n",
       "      <th>收支总和</th>\n",
       "      <th>收支记录次数</th>\n",
       "      <th>收入最大值</th>\n",
       "      <th>支出最大值</th>\n",
       "      <th>click_w228</th>\n",
       "    </tr>\n",
       "  </thead>\n",
       "  <tbody>\n",
       "    <tr>\n",
       "      <th>0</th>\n",
       "      <td>1</td>\n",
       "      <td>0</td>\n",
       "      <td>52.0</td>\n",
       "      <td>219481.95</td>\n",
       "      <td>120873.00</td>\n",
       "      <td>-72587.00</td>\n",
       "      <td>48286.00</td>\n",
       "      <td>13.0</td>\n",
       "      <td>56388.00</td>\n",
       "      <td>-50000.0</td>\n",
       "      <td>0</td>\n",
       "    </tr>\n",
       "    <tr>\n",
       "      <th>1</th>\n",
       "      <td>2</td>\n",
       "      <td>0</td>\n",
       "      <td>32.0</td>\n",
       "      <td>236183.79</td>\n",
       "      <td>348701.71</td>\n",
       "      <td>-340247.40</td>\n",
       "      <td>8454.31</td>\n",
       "      <td>31.0</td>\n",
       "      <td>96000.00</td>\n",
       "      <td>-316000.0</td>\n",
       "      <td>0</td>\n",
       "    </tr>\n",
       "    <tr>\n",
       "      <th>2</th>\n",
       "      <td>3</td>\n",
       "      <td>0</td>\n",
       "      <td>22.0</td>\n",
       "      <td>0.06</td>\n",
       "      <td>6920.67</td>\n",
       "      <td>-12561.21</td>\n",
       "      <td>-5640.54</td>\n",
       "      <td>167.0</td>\n",
       "      <td>6841.06</td>\n",
       "      <td>-3000.0</td>\n",
       "      <td>0</td>\n",
       "    </tr>\n",
       "    <tr>\n",
       "      <th>3</th>\n",
       "      <td>4</td>\n",
       "      <td>1</td>\n",
       "      <td>21.0</td>\n",
       "      <td>420.26</td>\n",
       "      <td>2110.00</td>\n",
       "      <td>-2093.93</td>\n",
       "      <td>16.07</td>\n",
       "      <td>50.0</td>\n",
       "      <td>520.00</td>\n",
       "      <td>-520.0</td>\n",
       "      <td>0</td>\n",
       "    </tr>\n",
       "    <tr>\n",
       "      <th>4</th>\n",
       "      <td>6</td>\n",
       "      <td>1</td>\n",
       "      <td>34.0</td>\n",
       "      <td>231.42</td>\n",
       "      <td>829116.97</td>\n",
       "      <td>-829294.89</td>\n",
       "      <td>-177.92</td>\n",
       "      <td>81.0</td>\n",
       "      <td>300000.00</td>\n",
       "      <td>-300000.0</td>\n",
       "      <td>0</td>\n",
       "    </tr>\n",
       "  </tbody>\n",
       "</table>\n",
       "</div>"
      ],
      "text/plain": [
       "   id  gender   age     aum227       收入总和       支出总和      收支总和  收支记录次数  \\\n",
       "0   1       0  52.0  219481.95  120873.00  -72587.00  48286.00    13.0   \n",
       "1   2       0  32.0  236183.79  348701.71 -340247.40   8454.31    31.0   \n",
       "2   3       0  22.0       0.06    6920.67  -12561.21  -5640.54   167.0   \n",
       "3   4       1  21.0     420.26    2110.00   -2093.93     16.07    50.0   \n",
       "4   6       1  34.0     231.42  829116.97 -829294.89   -177.92    81.0   \n",
       "\n",
       "       收入最大值     支出最大值  click_w228  \n",
       "0   56388.00  -50000.0           0  \n",
       "1   96000.00 -316000.0           0  \n",
       "2    6841.06   -3000.0           0  \n",
       "3     520.00    -520.0           0  \n",
       "4  300000.00 -300000.0           0  "
      ]
     },
     "execution_count": 13,
     "metadata": {},
     "output_type": "execute_result"
    }
   ],
   "source": [
    "XY227 = pd.merge(features227, train227, on='id', how='left')\n",
    "XY227.head()"
   ]
  },
  {
   "cell_type": "code",
   "execution_count": 8,
   "metadata": {},
   "outputs": [],
   "source": [
    "非点击年龄 = XY227.loc[XY227['click_w228']==0,'age']\n",
    "点击年龄 = XY227.loc[XY227['click_w228']==1,'age']"
   ]
  },
  {
   "cell_type": "code",
   "execution_count": 9,
   "metadata": {},
   "outputs": [
    {
     "name": "stderr",
     "output_type": "stream",
     "text": [
      "/opt/conda/lib/python3.7/site-packages/matplotlib/font_manager.py:1241: UserWarning: findfont: Font family ['sans-serif'] not found. Falling back to DejaVu Sans.\n",
      "  (prop.get_family(), self.defaultFamily[fontext]))\n"
     ]
    },
    {
     "data": {
      "text/plain": [
       "<seaborn.axisgrid.FacetGrid at 0x7f6c4c860518>"
      ]
     },
     "execution_count": 9,
     "metadata": {},
     "output_type": "execute_result"
    },
    {
     "data": {
      "image/png": "[encoded data removed]",
      "text/plain": [
       "<Figure size 422.75x360 with 1 Axes>"
      ]
     },
     "metadata": {},
     "output_type": "display_data"
    }
   ],
   "source": [
    "sns.FacetGrid(XY227, hue=\"click_w228\", height=5).map(plt.scatter, \"age\", \"click_w228\").add_legend()"
   ]
  },
  {
   "cell_type": "code",
   "execution_count": 26,
   "metadata": {},
   "outputs": [
    {
     "name": "stderr",
     "output_type": "stream",
     "text": [
      "/opt/conda/lib/python3.7/site-packages/seaborn/axisgrid.py:2065: UserWarning: The `size` parameter has been renamed to `height`; pleaes update your code.\n",
      "  warnings.warn(msg, UserWarning)\n",
      "/opt/conda/lib/python3.7/site-packages/statsmodels/nonparametric/kde.py:488: RuntimeWarning: invalid value encountered in true_divide\n",
      "  binned = fast_linbin(X, a, b, gridsize) / (delta * nobs)\n",
      "/opt/conda/lib/python3.7/site-packages/statsmodels/nonparametric/kdetools.py:34: RuntimeWarning: invalid value encountered in double_scalars\n",
      "  FAC1 = 2*(np.pi*bw/RANGE)**2\n",
      "/opt/conda/lib/python3.7/site-packages/statsmodels/nonparametric/kde.py:448: RuntimeWarning: invalid value encountered in greater\n",
      "  X = X[np.logical_and(X > clip[0], X < clip[1])] # won't work for two columns.\n",
      "/opt/conda/lib/python3.7/site-packages/statsmodels/nonparametric/kde.py:448: RuntimeWarning: invalid value encountered in less\n",
      "  X = X[np.logical_and(X > clip[0], X < clip[1])] # won't work for two columns.\n"
     ]
    },
    {
     "data": {
      "text/plain": [
       "<seaborn.axisgrid.PairGrid at 0x7faac195af28>"
      ]
     },
     "execution_count": 26,
     "metadata": {},
     "output_type": "execute_result"
    },
    {
     "data": {
      "image/png": "[encoded data removed]",
      "text/plain": [
       "<Figure size 494.75x432 with 12 Axes>"
      ]
     },
     "metadata": {},
     "output_type": "display_data"
    }
   ],
   "source": [
    "xxx=XY227[['click_w228','age','aum227']]\n",
    "sns.pairplot(xxx, hue=\"click_w228\", height=2)"
   ]
  },
  {
   "cell_type": "code",
   "execution_count": 34,
   "metadata": {},
   "outputs": [
    {
     "data": {
      "image/png": "[encoded data removed]",
      "text/plain": [
       "<Figure size 432x288 with 1 Axes>"
      ]
     },
     "metadata": {},
     "output_type": "display_data"
    }
   ],
   "source": [
    "ax = sns.boxplot(x=\"click_w228\", y=\"aum227\", data=XY227, whis=1)"
   ]
  },
  {
   "cell_type": "code",
   "execution_count": 9,
   "metadata": {},
   "outputs": [
    {
     "name": "stderr",
     "output_type": "stream",
     "text": [
      "/opt/conda/lib/python3.7/site-packages/statsmodels/nonparametric/kde.py:448: RuntimeWarning: invalid value encountered in greater\n",
      "  X = X[np.logical_and(X > clip[0], X < clip[1])] # won't work for two columns.\n",
      "/opt/conda/lib/python3.7/site-packages/statsmodels/nonparametric/kde.py:448: RuntimeWarning: invalid value encountered in less\n",
      "  X = X[np.logical_and(X > clip[0], X < clip[1])] # won't work for two columns.\n"
     ]
    },
    {
     "data": {
      "text/plain": [
       "<matplotlib.axes._subplots.AxesSubplot at 0x7f95219cc9e8>"
      ]
     },
     "execution_count": 9,
     "metadata": {},
     "output_type": "execute_result"
    },
    {
     "name": "stderr",
     "output_type": "stream",
     "text": [
      "/opt/conda/lib/python3.7/site-packages/matplotlib/font_manager.py:1241: UserWarning: findfont: Font family ['sans-serif'] not found. Falling back to DejaVu Sans.\n",
      "  (prop.get_family(), self.defaultFamily[fontext]))\n"
     ]
    },
    {
     "data": {
      "image/png": "[encoded data removed]",
      "text/plain": [
       "<Figure size 432x288 with 1 Axes>"
      ]
     },
     "metadata": {},
     "output_type": "display_data"
    }
   ],
   "source": [
    "amin = 2000000\n",
    "amax = 1.4e8\n",
    "\n",
    "# amin = 0\n",
    "# amax = 6000000\n",
    "\n",
    "# 非点击余额 = XY227.loc[(XY227['click_w228']==0) & (XY227['aum227']>=amin) & (XY227['aum227']<=amax), 'aum227']\n",
    "# 点击余额 = XY227.loc[(XY227['click_w228']==1) & (XY227['aum227']>=amin) & (XY227['aum227']<=amax), 'aum227']\n",
    "非点击余额 = XY227.loc[XY227['click_w228']==0, 'aum227']\n",
    "点击余额 = XY227.loc[XY227['click_w228']==1, 'aum227']\n",
    "sns.kdeplot(非点击余额,clip = (amin, amax), shade=True)\n",
    "sns.kdeplot(点击余额, clip = (amin, amax), shade=True)\n"
   ]
  },
  {
   "cell_type": "code",
   "execution_count": 10,
   "metadata": {},
   "outputs": [
    {
     "name": "stdout",
     "output_type": "stream",
     "text": [
      "-9999.0 139982829.3\n",
      "-9999.0 6501733.28\n"
     ]
    }
   ],
   "source": [
    "print(非点击余额.min(), 非点击余额.max())\n",
    "print(点击余额.min(), 点击余额.max())"
   ]
  },
  {
   "cell_type": "code",
   "execution_count": 11,
   "metadata": {},
   "outputs": [
    {
     "name": "stdout",
     "output_type": "stream",
     "text": [
      "534\n",
      "534\n",
      "3330\n"
     ]
    }
   ],
   "source": [
    "print(len(非点击余额[非点击余额<0]))\n",
    "print(len(非点击余额[非点击余额==-9999]))\n",
    "print(len(非点击余额[非点击余额==0]))"
   ]
  },
  {
   "cell_type": "code",
   "execution_count": 12,
   "metadata": {},
   "outputs": [
    {
     "name": "stdout",
     "output_type": "stream",
     "text": [
      "107\n",
      "107\n",
      "582\n"
     ]
    }
   ],
   "source": [
    "print(len(点击余额[点击余额<0]))\n",
    "print(len(点击余额[点击余额==-9999]))\n",
    "print(len(点击余额[点击余额==0]))"
   ]
  },
  {
   "cell_type": "code",
   "execution_count": 93,
   "metadata": {},
   "outputs": [],
   "source": [
    "a = 非点击余额.shape[0]\n",
    "b = 点击余额.shape[0]"
   ]
  },
  {
   "cell_type": "code",
   "execution_count": 94,
   "metadata": {},
   "outputs": [
    {
     "name": "stdout",
     "output_type": "stream",
     "text": [
      "96252 12000 0.8891475446181133 0.1108524553818867\n"
     ]
    }
   ],
   "source": [
    "print(a,b,a/(a+b),b/(a+b))"
   ]
  },
  {
   "cell_type": "markdown",
   "metadata": {},
   "source": [
    "## 提取的特征分析"
   ]
  },
  {
   "cell_type": "code",
   "execution_count": 122,
   "metadata": {},
   "outputs": [],
   "source": [
    "# fsname='特征选择001_类别金额组合'\n",
    "# for i in range(5):\n",
    "#     feature_scores = pd.read_csv(inter_dir + 'feature_scores_'+fsname+str(i)+'.csv')\n",
    "#     def clean(s):\n",
    "#         if s[0]=='各':\n",
    "#             return '各类别收支金额' + s[9:]\n",
    "#         else:\n",
    "#     #     print(type(s))\n",
    "#             return s\n",
    "#     feature_scores['feature'] = feature_scores['feature'].fillna('nan')\n",
    "#     feature_scores['feature'] = feature_scores['feature'].apply(clean)\n",
    "#     feature_scores.to_csv(inter_dir + 'feature_scores_'+fsname+str(i)+'.csv', index=False)\n",
    "#     print(feature_scores.head())"
   ]
  },
  {
   "cell_type": "code",
   "execution_count": 129,
   "metadata": {},
   "outputs": [],
   "source": [
    "# fsname='特征选择001_原始类别金额组合'\n",
    "# for i in range(5):\n",
    "#     feature_scores = pd.read_csv(inter_dir + 'feature_scores_'+fsname+str(i)+'.csv')\n",
    "#     def clean(s):\n",
    "#         if s[0]=='各':\n",
    "#             return '各原始类别收支金额' + s[11:]\n",
    "#         else:\n",
    "#     #     print(type(s))\n",
    "#             return s\n",
    "#     feature_scores['feature'] = feature_scores['feature'].fillna('nan')\n",
    "#     feature_scores['feature'] = feature_scores['feature'].apply(clean)\n",
    "#     feature_scores.to_csv(inter_dir + 'feature_scores_'+fsname+str(i)+'.csv', index=False)\n",
    "#     print(feature_scores.head())"
   ]
  },
  {
   "cell_type": "code",
   "execution_count": 14,
   "metadata": {},
   "outputs": [],
   "source": [
    "def parse_f(fsname='特征选择001_'):\n",
    "    sfeatures = set()\n",
    "    for i in range(5):\n",
    "        feature_scores = pd.read_csv(inter_dir + 'feature_scores_'+fsname+str(i)+'.csv')\n",
    "        sfeatures |= set(feature_scores.loc[feature_scores['score']>0, 'feature'])\n",
    "    sfeatures = list(sfeatures)\n",
    "    # 类别映射表\n",
    "    trx_cod = pd.read_csv(data_dir + 'trx_cod.csv')\n",
    "    # G2交易代码映射表\n",
    "    g2 = pd.read_csv(data_dir + 'g2.csv')\n",
    "    trx_cod['sz_id_s'] = trx_cod['sz_id'].astype(str)\n",
    "    \n",
    "    fdf = pd.DataFrame(sfeatures, columns=['feature'])\n",
    "    def clean(s):\n",
    "        if s[-2]=='_':\n",
    "            return s[:-2]\n",
    "        else:\n",
    "            return s\n",
    "    fdf['f_id'] = fdf['feature'].apply(clean)\n",
    "    fdf = pd.merge(fdf, trx_cod, how='left', left_on='f_id', right_on='sz_id_s')\n",
    "    fdf = pd.merge(fdf, g2, how='left', left_on='f_id', right_on='g2_id')\n",
    "    fdf = fdf.loc[:,['feature','cat1','cat2','g2_nam','g2_dnam']]\n",
    "    fdf['rank'] = fdf.index + 1\n",
    "    fdf.to_csv(inter_dir + 'features_eda_'+fsname+'.csv', index=False)\n",
    "    print(fdf.head())\n",
    "\n",
    "# parse_f(fsname='特征选择001_')"
   ]
  },
  {
   "cell_type": "code",
   "execution_count": 15,
   "metadata": {},
   "outputs": [
    {
     "name": "stdout",
     "output_type": "stream",
     "text": [
      "              feature cat1 cat2 g2_nam g2_dnam  rank\n",
      "0  各原始类别收支金额CDT2+AKOT  NaN  NaN    NaN     NaN     1\n",
      "1  各原始类别收支金额ONNK+ONBX  NaN  NaN    NaN     NaN     2\n",
      "2  各原始类别收支金额ONWT+AKOT  NaN  NaN    NaN     NaN     3\n",
      "3  各原始类别收支金额AGBN+ONNK  NaN  NaN    NaN     NaN     4\n",
      "4  各原始类别收支金额RYTB+AKOT  NaN  NaN    NaN     NaN     5\n"
     ]
    }
   ],
   "source": [
    "# parse_f(fsname='特征选择001_类别次数组合')\n",
    "# parse_f(fsname='特征选择001_类别金额组合')\n",
    "# parse_f(fsname='特征选择001_原始类别次数组合')\n",
    "parse_f(fsname='特征选择001_原始类别金额组合')"
   ]
  },
  {
   "cell_type": "code",
   "execution_count": 16,
   "metadata": {},
   "outputs": [],
   "source": [
    "def get_zuhe(fsname='特征选择001_类别次数组合'):\n",
    "    fdf = pd.read_csv(inter_dir + 'features_eda_'+fsname+'.csv')\n",
    "    def _filter(s):\n",
    "        if s[0]=='各':\n",
    "            return True\n",
    "        else:\n",
    "            return False\n",
    "    tmp_rst = fdf[fdf['feature'].apply(_filter)]\n",
    "    tmp_rst.to_csv(inter_dir + '选择的_'+fsname+'.csv', index=False)\n",
    "    print(tmp_rst.head())\n"
   ]
  },
  {
   "cell_type": "code",
   "execution_count": 17,
   "metadata": {},
   "outputs": [
    {
     "name": "stdout",
     "output_type": "stream",
     "text": [
      "              feature  cat1  cat2 g2_nam g2_dnam  rank\n",
      "0  各原始类别收支金额CDT2+AKOT   NaN   NaN    NaN     NaN     1\n",
      "1  各原始类别收支金额ONNK+ONBX   NaN   NaN    NaN     NaN     2\n",
      "2  各原始类别收支金额ONWT+AKOT   NaN   NaN    NaN     NaN     3\n",
      "3  各原始类别收支金额AGBN+ONNK   NaN   NaN    NaN     NaN     4\n",
      "4  各原始类别收支金额RYTB+AKOT   NaN   NaN    NaN     NaN     5\n"
     ]
    }
   ],
   "source": [
    "# get_zuhe(fsname='特征选择001_类别次数组合')\n",
    "# get_zuhe(fsname='特征选择001_类别金额组合')\n",
    "# get_zuhe(fsname='特征选择001_原始类别次数组合')\n",
    "get_zuhe(fsname='特征选择001_原始类别金额组合')"
   ]
  },
  {
   "cell_type": "code",
   "execution_count": null,
   "metadata": {},
   "outputs": [],
   "source": [
    "选择的各类别收支记录次数组合特征 = fdf[fdf['feature']]\n",
    "选择的各类别收支记录次数组合特征.to_csv(inter_dir + \"选择的各类别收支记录次数组合特征.csv\", index=False)\n",
    "选择的各类别收支记录次数组合特征.head()"
   ]
  },
  {
   "cell_type": "code",
   "execution_count": 53,
   "metadata": {},
   "outputs": [
    {
     "data": {
      "text/html": [
       "<div>\n",
       "<style scoped>\n",
       "    .dataframe tbody tr th:only-of-type {\n",
       "        vertical-align: middle;\n",
       "    }\n",
       "\n",
       "    .dataframe tbody tr th {\n",
       "        vertical-align: top;\n",
       "    }\n",
       "\n",
       "    .dataframe thead th {\n",
       "        text-align: right;\n",
       "    }\n",
       "</style>\n",
       "<table border=\"1\" class=\"dataframe\">\n",
       "  <thead>\n",
       "    <tr style=\"text-align: right;\">\n",
       "      <th></th>\n",
       "      <th>feature</th>\n",
       "      <th>cat1</th>\n",
       "      <th>cat2</th>\n",
       "      <th>g2_nam</th>\n",
       "      <th>g2_dnam</th>\n",
       "      <th>rank</th>\n",
       "    </tr>\n",
       "  </thead>\n",
       "  <tbody>\n",
       "    <tr>\n",
       "      <th>3</th>\n",
       "      <td>212_x</td>\n",
       "      <td>收入</td>\n",
       "      <td>红包</td>\n",
       "      <td>NaN</td>\n",
       "      <td>NaN</td>\n",
       "      <td>4</td>\n",
       "    </tr>\n",
       "    <tr>\n",
       "      <th>8</th>\n",
       "      <td>209_y</td>\n",
       "      <td>收入</td>\n",
       "      <td>退款</td>\n",
       "      <td>NaN</td>\n",
       "      <td>NaN</td>\n",
       "      <td>9</td>\n",
       "    </tr>\n",
       "    <tr>\n",
       "      <th>10</th>\n",
       "      <td>305_y</td>\n",
       "      <td>本人资金往来</td>\n",
       "      <td>贵金属</td>\n",
       "      <td>NaN</td>\n",
       "      <td>NaN</td>\n",
       "      <td>11</td>\n",
       "    </tr>\n",
       "    <tr>\n",
       "      <th>13</th>\n",
       "      <td>302_y</td>\n",
       "      <td>本人资金往来</td>\n",
       "      <td>理财产品</td>\n",
       "      <td>NaN</td>\n",
       "      <td>NaN</td>\n",
       "      <td>14</td>\n",
       "    </tr>\n",
       "    <tr>\n",
       "      <th>16</th>\n",
       "      <td>208_x</td>\n",
       "      <td>收入</td>\n",
       "      <td>他人转入</td>\n",
       "      <td>NaN</td>\n",
       "      <td>NaN</td>\n",
       "      <td>17</td>\n",
       "    </tr>\n",
       "  </tbody>\n",
       "</table>\n",
       "</div>"
      ],
      "text/plain": [
       "   feature    cat1  cat2 g2_nam g2_dnam  rank\n",
       "3    212_x      收入    红包    NaN     NaN     4\n",
       "8    209_y      收入    退款    NaN     NaN     9\n",
       "10   305_y  本人资金往来   贵金属    NaN     NaN    11\n",
       "13   302_y  本人资金往来  理财产品    NaN     NaN    14\n",
       "16   208_x      收入  他人转入    NaN     NaN    17"
      ]
     },
     "execution_count": 53,
     "metadata": {},
     "output_type": "execute_result"
    }
   ],
   "source": [
    "选择的类别特征 = fdf[fdf['cat1'].notna()|fdf['cat2'].notna()]\n",
    "选择的类别特征.to_csv(inter_dir + \"选择的类别特征.csv\", index=False)\n",
    "选择的类别特征.head()"
   ]
  },
  {
   "cell_type": "code",
   "execution_count": 52,
   "metadata": {},
   "outputs": [
    {
     "data": {
      "text/html": [
       "<div>\n",
       "<style scoped>\n",
       "    .dataframe tbody tr th:only-of-type {\n",
       "        vertical-align: middle;\n",
       "    }\n",
       "\n",
       "    .dataframe tbody tr th {\n",
       "        vertical-align: top;\n",
       "    }\n",
       "\n",
       "    .dataframe thead th {\n",
       "        text-align: right;\n",
       "    }\n",
       "</style>\n",
       "<table border=\"1\" class=\"dataframe\">\n",
       "  <thead>\n",
       "    <tr style=\"text-align: right;\">\n",
       "      <th></th>\n",
       "      <th>feature</th>\n",
       "      <th>cat1</th>\n",
       "      <th>cat2</th>\n",
       "      <th>g2_nam</th>\n",
       "      <th>g2_dnam</th>\n",
       "      <th>rank</th>\n",
       "    </tr>\n",
       "  </thead>\n",
       "  <tbody>\n",
       "    <tr>\n",
       "      <th>0</th>\n",
       "      <td>ICRR_y</td>\n",
       "      <td>NaN</td>\n",
       "      <td>NaN</td>\n",
       "      <td>对私提回贷</td>\n",
       "      <td>RI网银贷记接收收款</td>\n",
       "      <td>1</td>\n",
       "    </tr>\n",
       "    <tr>\n",
       "      <th>1</th>\n",
       "      <td>KPC1_x</td>\n",
       "      <td>NaN</td>\n",
       "      <td>NaN</td>\n",
       "      <td>商户清算</td>\n",
       "      <td>收单类业务商户清算</td>\n",
       "      <td>2</td>\n",
       "    </tr>\n",
       "    <tr>\n",
       "      <th>2</th>\n",
       "      <td>SJYK_y</td>\n",
       "      <td>NaN</td>\n",
       "      <td>NaN</td>\n",
       "      <td>E招贷</td>\n",
       "      <td>E招贷</td>\n",
       "      <td>3</td>\n",
       "    </tr>\n",
       "    <tr>\n",
       "      <th>4</th>\n",
       "      <td>FD98_y</td>\n",
       "      <td>NaN</td>\n",
       "      <td>NaN</td>\n",
       "      <td>基金快赎</td>\n",
       "      <td>基金快速赎回</td>\n",
       "      <td>5</td>\n",
       "    </tr>\n",
       "    <tr>\n",
       "      <th>5</th>\n",
       "      <td>YKJJ_x</td>\n",
       "      <td>NaN</td>\n",
       "      <td>NaN</td>\n",
       "      <td>本行买基金</td>\n",
       "      <td>购买基金一卡通资金代扣</td>\n",
       "      <td>6</td>\n",
       "    </tr>\n",
       "  </tbody>\n",
       "</table>\n",
       "</div>"
      ],
      "text/plain": [
       "  feature cat1 cat2 g2_nam      g2_dnam  rank\n",
       "0  ICRR_y  NaN  NaN  对私提回贷   RI网银贷记接收收款     1\n",
       "1  KPC1_x  NaN  NaN   商户清算    收单类业务商户清算     2\n",
       "2  SJYK_y  NaN  NaN    E招贷          E招贷     3\n",
       "4  FD98_y  NaN  NaN   基金快赎       基金快速赎回     5\n",
       "5  YKJJ_x  NaN  NaN  本行买基金  购买基金一卡通资金代扣     6"
      ]
     },
     "execution_count": 52,
     "metadata": {},
     "output_type": "execute_result"
    }
   ],
   "source": [
    "选择的原始类别特征 = fdf[fdf['g2_nam'].notna() | fdf['g2_dnam'].notna()]\n",
    "选择的原始类别特征.to_csv(inter_dir + \"选择的原始类别特征.csv\", index=False)\n",
    "选择的原始类别特征.head()"
   ]
  },
  {
   "cell_type": "code",
   "execution_count": 58,
   "metadata": {},
   "outputs": [
    {
     "data": {
      "text/html": [
       "<div>\n",
       "<style scoped>\n",
       "    .dataframe tbody tr th:only-of-type {\n",
       "        vertical-align: middle;\n",
       "    }\n",
       "\n",
       "    .dataframe tbody tr th {\n",
       "        vertical-align: top;\n",
       "    }\n",
       "\n",
       "    .dataframe thead th {\n",
       "        text-align: right;\n",
       "    }\n",
       "</style>\n",
       "<table border=\"1\" class=\"dataframe\">\n",
       "  <thead>\n",
       "    <tr style=\"text-align: right;\">\n",
       "      <th></th>\n",
       "      <th>feature</th>\n",
       "      <th>cat1</th>\n",
       "      <th>cat2</th>\n",
       "      <th>g2_nam</th>\n",
       "      <th>g2_dnam</th>\n",
       "      <th>rank</th>\n",
       "    </tr>\n",
       "  </thead>\n",
       "  <tbody>\n",
       "    <tr>\n",
       "      <th>6</th>\n",
       "      <td>收入均值</td>\n",
       "      <td>NaN</td>\n",
       "      <td>NaN</td>\n",
       "      <td>NaN</td>\n",
       "      <td>NaN</td>\n",
       "      <td>7</td>\n",
       "    </tr>\n",
       "    <tr>\n",
       "      <th>15</th>\n",
       "      <td>支出总和</td>\n",
       "      <td>NaN</td>\n",
       "      <td>NaN</td>\n",
       "      <td>NaN</td>\n",
       "      <td>NaN</td>\n",
       "      <td>16</td>\n",
       "    </tr>\n",
       "    <tr>\n",
       "      <th>19</th>\n",
       "      <td>age</td>\n",
       "      <td>NaN</td>\n",
       "      <td>NaN</td>\n",
       "      <td>NaN</td>\n",
       "      <td>NaN</td>\n",
       "      <td>20</td>\n",
       "    </tr>\n",
       "    <tr>\n",
       "      <th>99</th>\n",
       "      <td>收支均值</td>\n",
       "      <td>NaN</td>\n",
       "      <td>NaN</td>\n",
       "      <td>NaN</td>\n",
       "      <td>NaN</td>\n",
       "      <td>100</td>\n",
       "    </tr>\n",
       "    <tr>\n",
       "      <th>107</th>\n",
       "      <td>支出最大值</td>\n",
       "      <td>NaN</td>\n",
       "      <td>NaN</td>\n",
       "      <td>NaN</td>\n",
       "      <td>NaN</td>\n",
       "      <td>108</td>\n",
       "    </tr>\n",
       "  </tbody>\n",
       "</table>\n",
       "</div>"
      ],
      "text/plain": [
       "    feature cat1 cat2 g2_nam g2_dnam  rank\n",
       "6      收入均值  NaN  NaN    NaN     NaN     7\n",
       "15     支出总和  NaN  NaN    NaN     NaN    16\n",
       "19      age  NaN  NaN    NaN     NaN    20\n",
       "99     收支均值  NaN  NaN    NaN     NaN   100\n",
       "107   支出最大值  NaN  NaN    NaN     NaN   108"
      ]
     },
     "execution_count": 58,
     "metadata": {},
     "output_type": "execute_result"
    }
   ],
   "source": [
    "选择的基本特征 = fdf[fdf['cat1'].isna() & fdf['g2_nam'].isna()]\n",
    "选择的基本特征.to_csv(inter_dir + \"选择的基本特征.csv\", index=False)\n",
    "选择的基本特征.head()"
   ]
  },
  {
   "cell_type": "code",
   "execution_count": 61,
   "metadata": {},
   "outputs": [],
   "source": [
    "# 特征分数 = pd.read_csv(inter_dir + 'feature_scores007_'+'1'+'.csv')['feature']\n",
    "for i in range(5):\n",
    "    feature_scores = pd.read_csv(inter_dir + 'feature_scores007_'+str(i)+'.csv')\n",
    "    break\n",
    "#     sfeatures |= set(feature_scores.loc[feature_scores['score']>0, 'feature'])"
   ]
  },
  {
   "cell_type": "code",
   "execution_count": 76,
   "metadata": {},
   "outputs": [],
   "source": [
    "# for i in range(0,320,10):\n",
    "#     print(i,feature_scores.loc[:i,'score'].sum())"
   ]
  },
  {
   "cell_type": "code",
   "execution_count": null,
   "metadata": {},
   "outputs": [],
   "source": []
  }
 ],
 "metadata": {
  "kernelspec": {
   "display_name": "Python 3",
   "language": "python",
   "name": "python3"
  },
  "language_info": {
   "codemirror_mode": {
    "name": "ipython",
    "version": 3
   },
   "file_extension": ".py",
   "mimetype": "text/x-python",
   "name": "python",
   "nbconvert_exporter": "python",
   "pygments_lexer": "ipython3",
   "version": "3.7.3"
  }
 },
 "nbformat": 4,
 "nbformat_minor": 2
}
